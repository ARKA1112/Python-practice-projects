{
 "cells": [
  {
   "cell_type": "markdown",
   "metadata": {},
   "source": [
    "<img src=\"http://cfs22.simplicdn.net/ice9/new_logo.svgz \"/>\n",
    "\n",
    "# Assignment 02: Evaluate the Summer Olympics, London 2012 dataset\n",
    "\n",
    "*The comments/sections provided are your cues to perform the assignment. You don't need to limit yourself to the number of rows/cells provided. You can add additional rows in each section to add more lines of code.*\n",
    "\n",
    "*If at any point in time you need help on solving this assignment, view our demo video to understand the different steps of the code.*\n",
    "\n",
    "**Happy coding!**\n",
    "\n",
    "* * *"
   ]
  },
  {
   "cell_type": "markdown",
   "metadata": {},
   "source": [
    "#### 1: View and add the dataset"
   ]
  },
  {
   "cell_type": "code",
   "execution_count": 1,
   "metadata": {},
   "outputs": [],
   "source": [
    "#Import the necessary library\n",
    "import numpy as np"
   ]
  },
  {
   "cell_type": "code",
   "execution_count": 9,
   "metadata": {},
   "outputs": [],
   "source": [
    "#Manually add the Summer Olympics, London 2012 dataset as arrays\n",
    "\n",
    "country = np.array(['Great Britain','China', 'Russia','United States','Korea','Japan','Germany'])\n",
    "country_code = np.array(['GBR','CHN','RUS','US','KOR','JPN','GER'])\n",
    "Gold = np.array([\n",
    "29,\n",
    "38,\n",
    "24,\n",
    "46,\n",
    "13,\n",
    "7,\n",
    "11\n",
    "])\n",
    "\n",
    "Silver = np.array([17,\n",
    "28,\n",
    "25,\n",
    "28,\n",
    "8,\n",
    "14,\n",
    "11\n",
    "])\n",
    "\n",
    "Bronze = np.array([19,\n",
    "22,\n",
    "32,\n",
    "29,\n",
    "7,\n",
    "17,\n",
    "14,\n",
    "])"
   ]
  },
  {
   "cell_type": "markdown",
   "metadata": {},
   "source": [
    "#### Find the country with maximum gold medals"
   ]
  },
  {
   "cell_type": "code",
   "execution_count": 10,
   "metadata": {},
   "outputs": [
    {
     "data": {
      "text/plain": [
       "3"
      ]
     },
     "execution_count": 10,
     "metadata": {},
     "output_type": "execute_result"
    }
   ],
   "source": [
    "#Use the argmax() method to find the highest number of gold medals\n",
    "\n",
    "\n",
    "Gold.argmax()"
   ]
  },
  {
   "cell_type": "code",
   "execution_count": 11,
   "metadata": {},
   "outputs": [
    {
     "name": "stdout",
     "output_type": "stream",
     "text": [
      "United States\n"
     ]
    }
   ],
   "source": [
    "#Print the name of the country\n",
    "print(country[Gold.argmax()])"
   ]
  },
  {
   "cell_type": "markdown",
   "metadata": {},
   "source": [
    "#### Find the countries with more than 20 gold medals"
   ]
  },
  {
   "cell_type": "code",
   "execution_count": 16,
   "metadata": {},
   "outputs": [
    {
     "data": {
      "text/plain": [
       "array(['Great Britain', 'China', 'Russia', 'United States'], dtype='<U13')"
      ]
     },
     "execution_count": 16,
     "metadata": {},
     "output_type": "execute_result"
    }
   ],
   "source": [
    "#Use Boolean indexing technique to find the required output\n",
    "\n",
    "\n",
    "Gold_index = Gold > 20\n",
    "country[Gold_index]"
   ]
  },
  {
   "cell_type": "markdown",
   "metadata": {},
   "source": [
    "#### Evaluate the dataset and print the name of each country with its gold medals and total number of medals"
   ]
  },
  {
   "cell_type": "code",
   "execution_count": 23,
   "metadata": {},
   "outputs": [
    {
     "name": "stdout",
     "output_type": "stream",
     "text": [
      "Great Britain has 29 Gold medals and has won a total number of 65 medals\n",
      "China has 38 Gold medals and has won a total number of 88 medals\n",
      "Russia has 24 Gold medals and has won a total number of 81 medals\n",
      "United States has 46 Gold medals and has won a total number of 103 medals\n",
      "Korea has 13 Gold medals and has won a total number of 28 medals\n",
      "Japan has 7 Gold medals and has won a total number of 38 medals\n",
      "Germany has 11 Gold medals and has won a total number of 36 medals\n"
     ]
    }
   ],
   "source": [
    "#Use a for loop to create the required output\n",
    "\n",
    "\n",
    "\n",
    "for i  in range(len(country)):\n",
    "    nation = country[i]\n",
    "    Gold_medals = Gold[i]\n",
    "    Tot_medals = Gold[i]+Silver[i]+Bronze[i]\n",
    "    print('{} has {} Gold medals and has won a total number of {} medals'.format(nation,Gold_medals,Tot_medals))"
   ]
  },
  {
   "cell_type": "code",
   "execution_count": null,
   "metadata": {},
   "outputs": [],
   "source": []
  }
 ],
 "metadata": {
  "kernelspec": {
   "display_name": "Python 3",
   "language": "python",
   "name": "python3"
  },
  "language_info": {
   "codemirror_mode": {
    "name": "ipython",
    "version": 3
   },
   "file_extension": ".py",
   "mimetype": "text/x-python",
   "name": "python",
   "nbconvert_exporter": "python",
   "pygments_lexer": "ipython3",
   "version": "3.7.6"
  }
 },
 "nbformat": 4,
 "nbformat_minor": 1
}
