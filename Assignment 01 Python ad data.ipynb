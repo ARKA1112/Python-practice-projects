{
 "cells": [
  {
   "cell_type": "markdown",
   "metadata": {},
   "source": [
    "<img src=\"http://cfs22.simplicdn.net/ice9/new_logo.svgz \"/>\n",
    "\n",
    "# Assignment 01: Evaluate the Ad Budget Dataset of XYZ Firm\n",
    "\n",
    "*The comments/sections provided are your cues to perform the assignment. You don't need to limit yourself to the number of rows/cells provided. You can add additional rows in each section to add more lines of code.*\n",
    "\n",
    "*If at any point in time you need help on solving this assignment, view our demo video to understand the different steps of the code.*\n",
    "\n",
    "**Happy coding!**\n",
    "\n",
    "* * *"
   ]
  },
  {
   "cell_type": "markdown",
   "metadata": {},
   "source": [
    "#### 1: Import the dataset"
   ]
  },
  {
   "cell_type": "code",
   "execution_count": 83,
   "metadata": {
    "tags": []
   },
   "outputs": [],
   "source": [
    "#Import the required libraries\n",
    "import pandas as pd\n",
    "import numpy as np\n",
    "from sklearn.model_selection import train_test_split\n",
    "from sklearn.linear_model import LinearRegression\n"
   ]
  },
  {
   "cell_type": "code",
   "execution_count": 5,
   "metadata": {
    "collapsed": false,
    "jupyter": {
     "outputs_hidden": false
    }
   },
   "outputs": [],
   "source": [
    "#Import the advertising dataset\n",
    "adv_data = pd.read_csv('Adv.csv')"
   ]
  },
  {
   "cell_type": "markdown",
   "metadata": {},
   "source": [
    "#### 2: Analyze the dataset"
   ]
  },
  {
   "cell_type": "code",
   "execution_count": 23,
   "metadata": {
    "collapsed": false,
    "jupyter": {
     "outputs_hidden": false
    },
    "scrolled": true
   },
   "outputs": [
    {
     "data": {
      "text/html": [
       "<div>\n",
       "<style scoped>\n",
       "    .dataframe tbody tr th:only-of-type {\n",
       "        vertical-align: middle;\n",
       "    }\n",
       "\n",
       "    .dataframe tbody tr th {\n",
       "        vertical-align: top;\n",
       "    }\n",
       "\n",
       "    .dataframe thead th {\n",
       "        text-align: right;\n",
       "    }\n",
       "</style>\n",
       "<table border=\"1\" class=\"dataframe\">\n",
       "  <thead>\n",
       "    <tr style=\"text-align: right;\">\n",
       "      <th></th>\n",
       "      <th>Unnamed: 0</th>\n",
       "      <th>TV Ad Budget ($)</th>\n",
       "      <th>Radio Ad Budget ($)</th>\n",
       "      <th>Newspaper Ad Budget ($)</th>\n",
       "      <th>Sales ($)</th>\n",
       "    </tr>\n",
       "  </thead>\n",
       "  <tbody>\n",
       "    <tr>\n",
       "      <th>0</th>\n",
       "      <td>1</td>\n",
       "      <td>230.1</td>\n",
       "      <td>37.8</td>\n",
       "      <td>69.2</td>\n",
       "      <td>22.1</td>\n",
       "    </tr>\n",
       "    <tr>\n",
       "      <th>1</th>\n",
       "      <td>2</td>\n",
       "      <td>44.5</td>\n",
       "      <td>39.3</td>\n",
       "      <td>45.1</td>\n",
       "      <td>10.4</td>\n",
       "    </tr>\n",
       "    <tr>\n",
       "      <th>2</th>\n",
       "      <td>3</td>\n",
       "      <td>17.2</td>\n",
       "      <td>45.9</td>\n",
       "      <td>69.3</td>\n",
       "      <td>9.3</td>\n",
       "    </tr>\n",
       "    <tr>\n",
       "      <th>3</th>\n",
       "      <td>4</td>\n",
       "      <td>151.5</td>\n",
       "      <td>41.3</td>\n",
       "      <td>58.5</td>\n",
       "      <td>18.5</td>\n",
       "    </tr>\n",
       "    <tr>\n",
       "      <th>4</th>\n",
       "      <td>5</td>\n",
       "      <td>180.8</td>\n",
       "      <td>10.8</td>\n",
       "      <td>58.4</td>\n",
       "      <td>12.9</td>\n",
       "    </tr>\n",
       "  </tbody>\n",
       "</table>\n",
       "</div>"
      ],
      "text/plain": [
       "   Unnamed: 0  TV Ad Budget ($)  Radio Ad Budget ($)  Newspaper Ad Budget ($)  \\\n",
       "0           1             230.1                 37.8                     69.2   \n",
       "1           2              44.5                 39.3                     45.1   \n",
       "2           3              17.2                 45.9                     69.3   \n",
       "3           4             151.5                 41.3                     58.5   \n",
       "4           5             180.8                 10.8                     58.4   \n",
       "\n",
       "   Sales ($)  \n",
       "0       22.1  \n",
       "1       10.4  \n",
       "2        9.3  \n",
       "3       18.5  \n",
       "4       12.9  "
      ]
     },
     "execution_count": 23,
     "metadata": {},
     "output_type": "execute_result"
    }
   ],
   "source": [
    "#View the initial few records of the dataset\n",
    "adv_data.head()"
   ]
  },
  {
   "cell_type": "markdown",
   "metadata": {
    "jupyter": {
     "outputs_hidden": false
    }
   },
   "source": [
    "#Check the total number of elements in the dataset\n",
    "adv_data.size"
   ]
  },
  {
   "cell_type": "markdown",
   "metadata": {},
   "source": [
    "#### 3: Find the features or media channels used by the firm"
   ]
  },
  {
   "cell_type": "code",
   "execution_count": 11,
   "metadata": {
    "collapsed": false,
    "jupyter": {
     "outputs_hidden": false
    }
   },
   "outputs": [
    {
     "data": {
      "text/plain": [
       "(200, 5)"
      ]
     },
     "execution_count": 11,
     "metadata": {},
     "output_type": "execute_result"
    }
   ],
   "source": [
    "#Check the number of observations (rows) and attributes (columns) in the dataset\n",
    "adv_data.shape"
   ]
  },
  {
   "cell_type": "code",
   "execution_count": 12,
   "metadata": {
    "collapsed": false,
    "jupyter": {
     "outputs_hidden": false
    }
   },
   "outputs": [
    {
     "data": {
      "text/plain": [
       "Index(['Unnamed: 0', 'TV Ad Budget ($)', 'Radio Ad Budget ($)',\n",
       "       'Newspaper Ad Budget ($)', 'Sales ($)'],\n",
       "      dtype='object')"
      ]
     },
     "execution_count": 12,
     "metadata": {},
     "output_type": "execute_result"
    }
   ],
   "source": [
    "#View the names of each of the attributes\n",
    "adv_data.columns"
   ]
  },
  {
   "cell_type": "markdown",
   "metadata": {},
   "source": [
    "#### 4: Create objects to train and test the model; find the sales figures for each channel"
   ]
  },
  {
   "cell_type": "code",
   "execution_count": 45,
   "metadata": {
    "collapsed": false,
    "jupyter": {
     "outputs_hidden": false
    }
   },
   "outputs": [],
   "source": [
    "#Create a feature object from the columns\n",
    "X_features = adv_data.iloc[0:len(adv_data),0:4]"
   ]
  },
  {
   "cell_type": "code",
   "execution_count": 46,
   "metadata": {
    "collapsed": false,
    "jupyter": {
     "outputs_hidden": false
    }
   },
   "outputs": [
    {
     "name": "stdout",
     "output_type": "stream",
     "text": [
      "     Unnamed: 0  TV Ad Budget ($)  Radio Ad Budget ($)  \\\n",
      "0             1             230.1                 37.8   \n",
      "1             2              44.5                 39.3   \n",
      "2             3              17.2                 45.9   \n",
      "3             4             151.5                 41.3   \n",
      "4             5             180.8                 10.8   \n",
      "..          ...               ...                  ...   \n",
      "195         196              38.2                  3.7   \n",
      "196         197              94.2                  4.9   \n",
      "197         198             177.0                  9.3   \n",
      "198         199             283.6                 42.0   \n",
      "199         200             232.1                  8.6   \n",
      "\n",
      "     Newspaper Ad Budget ($)  \n",
      "0                       69.2  \n",
      "1                       45.1  \n",
      "2                       69.3  \n",
      "3                       58.5  \n",
      "4                       58.4  \n",
      "..                       ...  \n",
      "195                     13.8  \n",
      "196                      8.1  \n",
      "197                      6.4  \n",
      "198                     66.2  \n",
      "199                      8.7  \n",
      "\n",
      "[200 rows x 4 columns]\n"
     ]
    }
   ],
   "source": [
    "#View the feature object\n",
    "print(X_features)"
   ]
  },
  {
   "cell_type": "code",
   "execution_count": 73,
   "metadata": {
    "tags": []
   },
   "outputs": [],
   "source": [
    "#Create a target object (Hint: use the sales column as it is the response of the dataset)\n",
    "Y_features = adv_data['Sales ($)']"
   ]
  },
  {
   "cell_type": "code",
   "execution_count": 75,
   "metadata": {
    "collapsed": false,
    "jupyter": {
     "outputs_hidden": false
    }
   },
   "outputs": [
    {
     "name": "stdout",
     "output_type": "stream",
     "text": [
      "0      22.1\n",
      "1      10.4\n",
      "2       9.3\n",
      "3      18.5\n",
      "4      12.9\n",
      "       ... \n",
      "195     7.6\n",
      "196     9.7\n",
      "197    12.8\n",
      "198    25.5\n",
      "199    13.4\n",
      "Name: Sales ($), Length: 200, dtype: float64\n"
     ]
    }
   ],
   "source": [
    "#View the target object\n",
    "print(Y_features)"
   ]
  },
  {
   "cell_type": "code",
   "execution_count": 77,
   "metadata": {
    "collapsed": false,
    "jupyter": {
     "outputs_hidden": false
    }
   },
   "outputs": [
    {
     "data": {
      "text/plain": [
       "800"
      ]
     },
     "execution_count": 77,
     "metadata": {},
     "output_type": "execute_result"
    }
   ],
   "source": [
    "#Verify if all the observations have been captured in the feature object\n",
    "X_features.size"
   ]
  },
  {
   "cell_type": "code",
   "execution_count": 78,
   "metadata": {
    "collapsed": false,
    "jupyter": {
     "outputs_hidden": false
    }
   },
   "outputs": [
    {
     "data": {
      "text/plain": [
       "(200,)"
      ]
     },
     "execution_count": 78,
     "metadata": {},
     "output_type": "execute_result"
    }
   ],
   "source": [
    "#Verify if all the observations have been captured in the target object\n",
    "Y_features.shape"
   ]
  },
  {
   "cell_type": "markdown",
   "metadata": {},
   "source": [
    "#### 5: Split the original dataset into training and testing datasets for the model"
   ]
  },
  {
   "cell_type": "code",
   "execution_count": 84,
   "metadata": {
    "collapsed": false,
    "jupyter": {
     "outputs_hidden": false
    }
   },
   "outputs": [],
   "source": [
    "#Split the dataset (by default, 75% is the training data and 25% is the testing data)\n",
    "X_train,X_test,Y_train,Y_test = train_test_split(X_features,Y_features,train_size=0.75,random_state=2021)"
   ]
  },
  {
   "cell_type": "code",
   "execution_count": 86,
   "metadata": {
    "collapsed": false,
    "jupyter": {
     "outputs_hidden": false
    }
   },
   "outputs": [
    {
     "data": {
      "text/plain": [
       "((150, 4), (50, 4), (150,), (50,))"
      ]
     },
     "execution_count": 86,
     "metadata": {},
     "output_type": "execute_result"
    }
   ],
   "source": [
    "#Verify if the training and testing datasets are split correctly (Hint: use the shape() method)\n",
    "X_train.shape,X_test.shape,Y_train.shape,Y_test.shape"
   ]
  },
  {
   "cell_type": "markdown",
   "metadata": {},
   "source": [
    "#### 6: Create a model  to predict the sales outcome"
   ]
  },
  {
   "cell_type": "code",
   "execution_count": 87,
   "metadata": {
    "collapsed": false,
    "jupyter": {
     "outputs_hidden": false
    }
   },
   "outputs": [],
   "source": [
    "#Create a linear regression model\n",
    "LinReg = LinearRegression()"
   ]
  },
  {
   "cell_type": "code",
   "execution_count": 88,
   "metadata": {
    "collapsed": false,
    "jupyter": {
     "outputs_hidden": false
    }
   },
   "outputs": [
    {
     "data": {
      "text/plain": [
       "LinearRegression()"
      ]
     },
     "execution_count": 88,
     "metadata": {},
     "output_type": "execute_result"
    }
   ],
   "source": [
    "#Print the intercept and coefficients \n",
    "LinReg.fit(X_train,Y_train)"
   ]
  },
  {
   "cell_type": "code",
   "execution_count": 91,
   "metadata": {
    "collapsed": false,
    "jupyter": {
     "outputs_hidden": false
    }
   },
   "outputs": [
    {
     "name": "stdout",
     "output_type": "stream",
     "text": [
      "[13.7131938   8.26101229 16.45574445 12.8015318   4.65186185 16.92196437\n",
      " 20.22087102  9.5410754  16.09047573  8.98748251  8.57994731  3.92766293\n",
      " 10.69828303 20.5633872  11.62643178 19.34360949 21.97669541  3.79667208\n",
      " 10.08716028 20.67407501 17.46677729 14.06569147  8.07606707 15.47119287\n",
      " 24.10522324 15.15601345 18.46458886 15.46310941 10.8551917  21.67917026\n",
      " 20.12616221  8.93012743  7.04689397 10.73962611 20.76325717 18.3330762\n",
      " 17.08035705 11.68957805 19.37898004 12.87991527 19.03149221  6.46908694\n",
      " 12.65887725 11.46717535 10.9897056   5.7917178  12.27047129 18.14772617\n",
      " 10.89531958 18.30660869]\n"
     ]
    }
   ],
   "source": [
    "#Predict the outcome for the testing dataset\n",
    "X_pred = LinReg.predict(X_test)\n",
    "print(X_pred)"
   ]
  },
  {
   "cell_type": "code",
   "execution_count": 93,
   "metadata": {},
   "outputs": [
    {
     "data": {
      "text/plain": [
       "(array([13.7131938 ,  8.26101229, 16.45574445, 12.8015318 ,  4.65186185,\n",
       "        16.92196437, 20.22087102,  9.5410754 , 16.09047573,  8.98748251,\n",
       "         8.57994731,  3.92766293, 10.69828303, 20.5633872 , 11.62643178,\n",
       "        19.34360949, 21.97669541,  3.79667208, 10.08716028, 20.67407501,\n",
       "        17.46677729, 14.06569147,  8.07606707, 15.47119287, 24.10522324,\n",
       "        15.15601345, 18.46458886, 15.46310941, 10.8551917 , 21.67917026,\n",
       "        20.12616221,  8.93012743,  7.04689397, 10.73962611, 20.76325717,\n",
       "        18.3330762 , 17.08035705, 11.68957805, 19.37898004, 12.87991527,\n",
       "        19.03149221,  6.46908694, 12.65887725, 11.46717535, 10.9897056 ,\n",
       "         5.7917178 , 12.27047129, 18.14772617, 10.89531958, 18.30660869]),\n",
       " 122    11.6\n",
       " 24      9.7\n",
       " 23     15.5\n",
       " 148    10.9\n",
       " 76      6.9\n",
       " 35     12.8\n",
       " 0      22.1\n",
       " 51     10.7\n",
       " 178    11.8\n",
       " 132     5.7\n",
       " 196     9.7\n",
       " 8       4.8\n",
       " 72      8.8\n",
       " 104    20.7\n",
       " 88     12.9\n",
       " 133    19.6\n",
       " 58     23.8\n",
       " 108     5.3\n",
       " 18     11.3\n",
       " 52     22.6\n",
       " 74     17.0\n",
       " 181    12.2\n",
       " 172     7.6\n",
       " 97     15.5\n",
       " 183    26.2\n",
       " 162    14.9\n",
       " 153    19.0\n",
       " 199    13.4\n",
       " 126     6.6\n",
       " 42     20.7\n",
       " 139    20.7\n",
       " 13      9.7\n",
       " 10      8.6\n",
       " 158     7.3\n",
       " 137    20.8\n",
       " 141    19.2\n",
       " 99     17.2\n",
       " 80     11.8\n",
       " 28     18.9\n",
       " 4      12.9\n",
       " 193    19.6\n",
       " 22      5.6\n",
       " 179    12.6\n",
       " 164    11.9\n",
       " 130     1.6\n",
       " 155     3.2\n",
       " 2       9.3\n",
       " 169    15.0\n",
       " 180    10.5\n",
       " 14     19.0\n",
       " Name: Sales ($), dtype: float64)"
      ]
     },
     "execution_count": 93,
     "metadata": {},
     "output_type": "execute_result"
    }
   ],
   "source": [
    "#Adding my own step to create a crosstab\n",
    "X_pred,Y_test"
   ]
  },
  {
   "cell_type": "markdown",
   "metadata": {},
   "source": [
    "#### 7: Calculate the Mean Square Error (MSE)"
   ]
  },
  {
   "cell_type": "code",
   "execution_count": 94,
   "metadata": {
    "tags": []
   },
   "outputs": [],
   "source": [
    "#Import required libraries for calculating MSE (mean square error)\n",
    "from sklearn.metrics import mean_squared_error"
   ]
  },
  {
   "cell_type": "code",
   "execution_count": 95,
   "metadata": {
    "collapsed": false,
    "jupyter": {
     "outputs_hidden": false
    }
   },
   "outputs": [
    {
     "data": {
      "text/plain": [
       "4.97949403989172"
      ]
     },
     "execution_count": 95,
     "metadata": {},
     "output_type": "execute_result"
    }
   ],
   "source": [
    "#Calculate the MSE\n",
    "mean_squared_error(Y_test,X_pred)"
   ]
  },
  {
   "cell_type": "code",
   "execution_count": 102,
   "metadata": {},
   "outputs": [
    {
     "data": {
      "text/plain": [
       "4.979494039891719"
      ]
     },
     "execution_count": 102,
     "metadata": {},
     "output_type": "execute_result"
    }
   ],
   "source": [
    "sum((Y_test-X_pred)**2)/len(Y_test)  #done manually"
   ]
  },
  {
   "cell_type": "code",
   "execution_count": null,
   "metadata": {},
   "outputs": [],
   "source": []
  }
 ],
 "metadata": {
  "kernelspec": {
   "display_name": "Python 3",
   "language": "python",
   "name": "python3"
  },
  "language_info": {
   "codemirror_mode": {
    "name": "ipython",
    "version": 3
   },
   "file_extension": ".py",
   "mimetype": "text/x-python",
   "name": "python",
   "nbconvert_exporter": "python",
   "pygments_lexer": "ipython3",
   "version": "3.9.5"
  }
 },
 "nbformat": 4,
 "nbformat_minor": 4
}
