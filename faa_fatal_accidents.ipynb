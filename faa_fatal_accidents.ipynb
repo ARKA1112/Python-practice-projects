{
  "nbformat": 4,
  "nbformat_minor": 0,
  "metadata": {
    "colab": {
      "name": "Untitled7.ipynb",
      "provenance": [],
      "collapsed_sections": [],
      "authorship_tag": "ABX9TyMUJTytfvfesLBYuWxA3s3Z",
      "include_colab_link": true
    },
    "kernelspec": {
      "name": "python3",
      "display_name": "Python 3"
    },
    "language_info": {
      "name": "python"
    }
  },
  "cells": [
    {
      "cell_type": "markdown",
      "metadata": {
        "id": "view-in-github",
        "colab_type": "text"
      },
      "source": [
        "<a href=\"https://colab.research.google.com/github/ARKA1112/Python-practice-projects/blob/main/faa_fatal_accidents.ipynb\" target=\"_parent\"><img src=\"https://colab.research.google.com/assets/colab-badge.svg\" alt=\"Open In Colab\"/></a>"
      ]
    },
    {
      "cell_type": "code",
      "metadata": {
        "id": "g_YeB5RfF3pB"
      },
      "source": [
        "import numpy as np\n",
        "import pandas as pd"
      ],
      "execution_count": 2,
      "outputs": []
    },
    {
      "cell_type": "code",
      "metadata": {
        "id": "D_aEUxcs5duC",
        "colab": {
          "base_uri": "https://localhost:8080/"
        },
        "outputId": "5df70f1e-3e1e-4c62-8759-77368467c1d7"
      },
      "source": [
        "studen_score_math =  pd.DataFrame({'Name':['Tom','Adam', 'Paul', 'David', 'Amber'],\n",
        "                                   'ID':[70,40,60,55,32]})\n",
        "print(studen_score_math)"
      ],
      "execution_count": 14,
      "outputs": [
        {
          "output_type": "stream",
          "text": [
            "    Name  ID\n",
            "0    Tom  70\n",
            "1   Adam  40\n",
            "2   Paul  60\n",
            "3  David  55\n",
            "4  Amber  32\n"
          ],
          "name": "stdout"
        }
      ]
    },
    {
      "cell_type": "code",
      "metadata": {
        "id": "a4C_MFta6KjD",
        "colab": {
          "base_uri": "https://localhost:8080/"
        },
        "outputId": "451255d2-de76-47f6-e269-11a29e91c595"
      },
      "source": [
        "studen_score_science = pd.DataFrame({'Name':['Adam','David','Sharon'],\n",
        "                                     'ID':[40,55,11]})\n",
        "print(studen_score_science)"
      ],
      "execution_count": 15,
      "outputs": [
        {
          "output_type": "stream",
          "text": [
            "     Name  ID\n",
            "0    Adam  40\n",
            "1   David  55\n",
            "2  Sharon  11\n"
          ],
          "name": "stdout"
        }
      ]
    },
    {
      "cell_type": "code",
      "metadata": {
        "id": "AMwoPxjN6kUH"
      },
      "source": [
        "studen_score_science_math = pd.merge(studen_score_math,studen_score_science)"
      ],
      "execution_count": 17,
      "outputs": []
    },
    {
      "cell_type": "code",
      "metadata": {
        "colab": {
          "base_uri": "https://localhost:8080/"
        },
        "id": "G4IoOVVe6qHP",
        "outputId": "018393a8-601a-4b57-b4e1-11541756bef8"
      },
      "source": [
        "print(studen_score_science_math )"
      ],
      "execution_count": 18,
      "outputs": [
        {
          "output_type": "stream",
          "text": [
            "    Name  ID\n",
            "0   Adam  40\n",
            "1  David  55\n"
          ],
          "name": "stdout"
        }
      ]
    },
    {
      "cell_type": "code",
      "metadata": {
        "id": "9ue78u3G6sD_",
        "colab": {
          "base_uri": "https://localhost:8080/"
        },
        "outputId": "cfd6a875-0e8e-4672-f22a-448115ea805c"
      },
      "source": [
        "left_merge = pd.merge(studen_score_math,studen_score_science, on ='ID', how = 'left').fillna('x')\n",
        "print(left_merge)"
      ],
      "execution_count": 21,
      "outputs": [
        {
          "output_type": "stream",
          "text": [
            "  Name_x  ID Name_y\n",
            "0    Tom  70      x\n",
            "1   Adam  40   Adam\n",
            "2   Paul  60      x\n",
            "3  David  55  David\n",
            "4  Amber  32      x\n"
          ],
          "name": "stdout"
        }
      ]
    },
    {
      "cell_type": "code",
      "metadata": {
        "id": "DOTEid-3AO9U"
      },
      "source": [
        "concat = pd.concat([studen_score_math,studen_score_science])"
      ],
      "execution_count": 24,
      "outputs": []
    },
    {
      "cell_type": "code",
      "metadata": {
        "id": "l3D0OBz_BZ9z"
      },
      "source": [
        "df_student_survey_data = pd.DataFrame({'student':['Tom','Jack','Tom','Ram','Jeff','Jack'],\n",
        "                                       'ID':[10,56,10,85,9,56]})"
      ],
      "execution_count": 25,
      "outputs": []
    },
    {
      "cell_type": "code",
      "metadata": {
        "colab": {
          "base_uri": "https://localhost:8080/",
          "height": 235
        },
        "id": "kR4JyjuEB9E1",
        "outputId": "767f4e25-46f2-4b2c-a1d6-14be2183c978"
      },
      "source": [
        "df_student_survey_data"
      ],
      "execution_count": 26,
      "outputs": [
        {
          "output_type": "execute_result",
          "data": {
            "text/html": [
              "<div>\n",
              "<style scoped>\n",
              "    .dataframe tbody tr th:only-of-type {\n",
              "        vertical-align: middle;\n",
              "    }\n",
              "\n",
              "    .dataframe tbody tr th {\n",
              "        vertical-align: top;\n",
              "    }\n",
              "\n",
              "    .dataframe thead th {\n",
              "        text-align: right;\n",
              "    }\n",
              "</style>\n",
              "<table border=\"1\" class=\"dataframe\">\n",
              "  <thead>\n",
              "    <tr style=\"text-align: right;\">\n",
              "      <th></th>\n",
              "      <th>student</th>\n",
              "      <th>ID</th>\n",
              "    </tr>\n",
              "  </thead>\n",
              "  <tbody>\n",
              "    <tr>\n",
              "      <th>0</th>\n",
              "      <td>Tom</td>\n",
              "      <td>10</td>\n",
              "    </tr>\n",
              "    <tr>\n",
              "      <th>1</th>\n",
              "      <td>Jack</td>\n",
              "      <td>56</td>\n",
              "    </tr>\n",
              "    <tr>\n",
              "      <th>2</th>\n",
              "      <td>Tom</td>\n",
              "      <td>10</td>\n",
              "    </tr>\n",
              "    <tr>\n",
              "      <th>3</th>\n",
              "      <td>Ram</td>\n",
              "      <td>85</td>\n",
              "    </tr>\n",
              "    <tr>\n",
              "      <th>4</th>\n",
              "      <td>Jeff</td>\n",
              "      <td>9</td>\n",
              "    </tr>\n",
              "    <tr>\n",
              "      <th>5</th>\n",
              "      <td>Jack</td>\n",
              "      <td>56</td>\n",
              "    </tr>\n",
              "  </tbody>\n",
              "</table>\n",
              "</div>"
            ],
            "text/plain": [
              "  student  ID\n",
              "0     Tom  10\n",
              "1    Jack  56\n",
              "2     Tom  10\n",
              "3     Ram  85\n",
              "4    Jeff   9\n",
              "5    Jack  56"
            ]
          },
          "metadata": {
            "tags": []
          },
          "execution_count": 26
        }
      ]
    },
    {
      "cell_type": "code",
      "metadata": {
        "colab": {
          "base_uri": "https://localhost:8080/"
        },
        "id": "HQuwRRKMCAr0",
        "outputId": "d3c7bc45-70cd-4a90-949d-7a7692754223"
      },
      "source": [
        "df_student_survey_data.duplicated()"
      ],
      "execution_count": 27,
      "outputs": [
        {
          "output_type": "execute_result",
          "data": {
            "text/plain": [
              "0    False\n",
              "1    False\n",
              "2     True\n",
              "3    False\n",
              "4    False\n",
              "5     True\n",
              "dtype: bool"
            ]
          },
          "metadata": {
            "tags": []
          },
          "execution_count": 27
        }
      ]
    },
    {
      "cell_type": "code",
      "metadata": {
        "colab": {
          "base_uri": "https://localhost:8080/",
          "height": 173
        },
        "id": "f08c2_gNCHLS",
        "outputId": "b1cc3eb5-30f3-4bb4-b92c-6d5cfb6a77fe"
      },
      "source": [
        "df_student_survey_data.drop_duplicates('student')"
      ],
      "execution_count": 30,
      "outputs": [
        {
          "output_type": "execute_result",
          "data": {
            "text/html": [
              "<div>\n",
              "<style scoped>\n",
              "    .dataframe tbody tr th:only-of-type {\n",
              "        vertical-align: middle;\n",
              "    }\n",
              "\n",
              "    .dataframe tbody tr th {\n",
              "        vertical-align: top;\n",
              "    }\n",
              "\n",
              "    .dataframe thead th {\n",
              "        text-align: right;\n",
              "    }\n",
              "</style>\n",
              "<table border=\"1\" class=\"dataframe\">\n",
              "  <thead>\n",
              "    <tr style=\"text-align: right;\">\n",
              "      <th></th>\n",
              "      <th>student</th>\n",
              "      <th>ID</th>\n",
              "    </tr>\n",
              "  </thead>\n",
              "  <tbody>\n",
              "    <tr>\n",
              "      <th>0</th>\n",
              "      <td>Tom</td>\n",
              "      <td>10</td>\n",
              "    </tr>\n",
              "    <tr>\n",
              "      <th>1</th>\n",
              "      <td>Jack</td>\n",
              "      <td>56</td>\n",
              "    </tr>\n",
              "    <tr>\n",
              "      <th>3</th>\n",
              "      <td>Ram</td>\n",
              "      <td>85</td>\n",
              "    </tr>\n",
              "    <tr>\n",
              "      <th>4</th>\n",
              "      <td>Jeff</td>\n",
              "      <td>9</td>\n",
              "    </tr>\n",
              "  </tbody>\n",
              "</table>\n",
              "</div>"
            ],
            "text/plain": [
              "  student  ID\n",
              "0     Tom  10\n",
              "1    Jack  56\n",
              "3     Ram  85\n",
              "4    Jeff   9"
            ]
          },
          "metadata": {
            "tags": []
          },
          "execution_count": 30
        }
      ]
    },
    {
      "cell_type": "code",
      "metadata": {
        "colab": {
          "base_uri": "https://localhost:8080/",
          "height": 173
        },
        "id": "ScqR52JuCKpz",
        "outputId": "884050e4-0edb-4da4-b386-d192538a05ea"
      },
      "source": [
        "df_student_survey_data.drop_duplicates('ID')"
      ],
      "execution_count": 31,
      "outputs": [
        {
          "output_type": "execute_result",
          "data": {
            "text/html": [
              "<div>\n",
              "<style scoped>\n",
              "    .dataframe tbody tr th:only-of-type {\n",
              "        vertical-align: middle;\n",
              "    }\n",
              "\n",
              "    .dataframe tbody tr th {\n",
              "        vertical-align: top;\n",
              "    }\n",
              "\n",
              "    .dataframe thead th {\n",
              "        text-align: right;\n",
              "    }\n",
              "</style>\n",
              "<table border=\"1\" class=\"dataframe\">\n",
              "  <thead>\n",
              "    <tr style=\"text-align: right;\">\n",
              "      <th></th>\n",
              "      <th>student</th>\n",
              "      <th>ID</th>\n",
              "    </tr>\n",
              "  </thead>\n",
              "  <tbody>\n",
              "    <tr>\n",
              "      <th>0</th>\n",
              "      <td>Tom</td>\n",
              "      <td>10</td>\n",
              "    </tr>\n",
              "    <tr>\n",
              "      <th>1</th>\n",
              "      <td>Jack</td>\n",
              "      <td>56</td>\n",
              "    </tr>\n",
              "    <tr>\n",
              "      <th>3</th>\n",
              "      <td>Ram</td>\n",
              "      <td>85</td>\n",
              "    </tr>\n",
              "    <tr>\n",
              "      <th>4</th>\n",
              "      <td>Jeff</td>\n",
              "      <td>9</td>\n",
              "    </tr>\n",
              "  </tbody>\n",
              "</table>\n",
              "</div>"
            ],
            "text/plain": [
              "  student  ID\n",
              "0     Tom  10\n",
              "1    Jack  56\n",
              "3     Ram  85\n",
              "4    Jeff   9"
            ]
          },
          "metadata": {
            "tags": []
          },
          "execution_count": 31
        }
      ]
    },
    {
      "cell_type": "code",
      "metadata": {
        "id": "cCICMyHKCXeL"
      },
      "source": [
        "import sqlite3"
      ],
      "execution_count": 32,
      "outputs": []
    },
    {
      "cell_type": "code",
      "metadata": {
        "id": "7MjUBL0FC6Ez"
      },
      "source": [
        "create_table = \"\"\"CREATE TABLE student_score\n",
        "(ID INT, Name VARCHAR(20), Math REAL, Science REAL);\"\"\""
      ],
      "execution_count": 33,
      "outputs": []
    },
    {
      "cell_type": "code",
      "metadata": {
        "colab": {
          "base_uri": "https://localhost:8080/"
        },
        "id": "xzMOy-sUDPv7",
        "outputId": "7d484fc1-2ee6-4cac-aeb7-cc7b8a21c16a"
      },
      "source": [
        "print(create_table)"
      ],
      "execution_count": 35,
      "outputs": [
        {
          "output_type": "stream",
          "text": [
            "CREATE TABLE student_score\n",
            "(ID INT, Name VARCHAR(20), Math REAL, Science REAL);\n"
          ],
          "name": "stdout"
        }
      ]
    },
    {
      "cell_type": "code",
      "metadata": {
        "id": "-no-n1c0DRMQ"
      },
      "source": [
        "executeSQL = sqlite3.connect(':memory')\n",
        "executeSQL.execute(create_table)\n",
        "executeSQL.commit()"
      ],
      "execution_count": 36,
      "outputs": []
    },
    {
      "cell_type": "code",
      "metadata": {
        "id": "NBcPAbdHDoqC"
      },
      "source": [
        "SQL_query = executeSQL.execute('select * from student_score')"
      ],
      "execution_count": 37,
      "outputs": []
    },
    {
      "cell_type": "code",
      "metadata": {
        "id": "Olcs8SZbD6qj"
      },
      "source": [
        "resulset =SQL_query.fetchall()"
      ],
      "execution_count": 38,
      "outputs": []
    },
    {
      "cell_type": "code",
      "metadata": {
        "colab": {
          "base_uri": "https://localhost:8080/"
        },
        "id": "zkb3R2W4D-Mr",
        "outputId": "98478900-6511-4e7e-f3b3-a1d3e1313613"
      },
      "source": [
        "resulset"
      ],
      "execution_count": 39,
      "outputs": [
        {
          "output_type": "execute_result",
          "data": {
            "text/plain": [
              "[]"
            ]
          },
          "metadata": {
            "tags": []
          },
          "execution_count": 39
        }
      ]
    },
    {
      "cell_type": "code",
      "metadata": {
        "id": "44kHofwKD_u7"
      },
      "source": [
        "insertSQL = [(10,'Jack',85,92),\n",
        "             (29,'Tom',73,89),\n",
        "             (65,'Ram', 65.5, 77),\n",
        "             (5, 'Steve',55,91)\n",
        "             ]"
      ],
      "execution_count": 40,
      "outputs": []
    },
    {
      "cell_type": "code",
      "metadata": {
        "id": "9WY3P-KOFk7y"
      },
      "source": [
        "insert_statement = 'Insert into student_score values(?,?,?,?)'\n",
        "executeSQL.executemany(insert_statement,insertSQL)\n",
        "executeSQL.commit()"
      ],
      "execution_count": 43,
      "outputs": []
    },
    {
      "cell_type": "code",
      "metadata": {
        "id": "EW6nDkIlGBb9"
      },
      "source": [
        "#prepare SQL query\n",
        "SQL_query = executeSQL.execute('select * from student_score')"
      ],
      "execution_count": 44,
      "outputs": []
    },
    {
      "cell_type": "code",
      "metadata": {
        "id": "OuFySj7gGxLz"
      },
      "source": [
        "resulset = SQL_query.fetchall()"
      ],
      "execution_count": 45,
      "outputs": []
    },
    {
      "cell_type": "code",
      "metadata": {
        "colab": {
          "base_uri": "https://localhost:8080/"
        },
        "id": "c3BbPPzDG14j",
        "outputId": "63fb58c7-c12e-445e-e769-003394305fbf"
      },
      "source": [
        "resulset"
      ],
      "execution_count": 46,
      "outputs": [
        {
          "output_type": "execute_result",
          "data": {
            "text/plain": [
              "[(10, 'Jack', 85.0, 92.0),\n",
              " (29, 'Tom', 73.0, 89.0),\n",
              " (65, 'Ram', 65.5, 77.0),\n",
              " (5, 'Steve', 55.0, 91.0)]"
            ]
          },
          "metadata": {
            "tags": []
          },
          "execution_count": 46
        }
      ]
    },
    {
      "cell_type": "code",
      "metadata": {
        "id": "fjeCS_eFG22T"
      },
      "source": [
        "faa = pd.read_csv('/content/faa_ai_prelim.csv')"
      ],
      "execution_count": 98,
      "outputs": []
    },
    {
      "cell_type": "code",
      "metadata": {
        "id": "rgtCD85lKzJN"
      },
      "source": [
        "faa.isna()"
      ],
      "execution_count": null,
      "outputs": []
    },
    {
      "cell_type": "code",
      "metadata": {
        "colab": {
          "base_uri": "https://localhost:8080/"
        },
        "id": "70azR1rZLJQP",
        "outputId": "367d6da0-cb7e-4741-a740-365bdc38464f"
      },
      "source": [
        "faa.columns"
      ],
      "execution_count": 59,
      "outputs": [
        {
          "output_type": "execute_result",
          "data": {
            "text/plain": [
              "Index(['UPDATED', 'ENTRY_DATE', 'EVENT_LCL_DATE', 'EVENT_LCL_TIME',\n",
              "       'LOC_CITY_NAME', 'LOC_STATE_NAME', 'LOC_CNTRY_NAME', 'RMK_TEXT',\n",
              "       'EVENT_TYPE_DESC', 'FSDO_DESC', 'REGIST_NBR', 'FLT_NBR', 'ACFT_OPRTR',\n",
              "       'ACFT_MAKE_NAME', 'ACFT_MODEL_NAME', 'ACFT_MISSING_FLAG',\n",
              "       'ACFT_DMG_DESC', 'FLT_ACTIVITY', 'FLT_PHASE', 'FAR_PART', 'MAX_INJ_LVL',\n",
              "       'FATAL_FLAG', 'FLT_CRW_INJ_NONE', 'FLT_CRW_INJ_MINOR',\n",
              "       'FLT_CRW_INJ_SERIOUS', 'FLT_CRW_INJ_FATAL', 'FLT_CRW_INJ_UNK',\n",
              "       'CBN_CRW_INJ_NONE', 'CBN_CRW_INJ_MINOR', 'CBN_CRW_INJ_SERIOUS',\n",
              "       'CBN_CRW_INJ_FATAL', 'CBN_CRW_INJ_UNK', 'PAX_INJ_NONE', 'PAX_INJ_MINOR',\n",
              "       'PAX_INJ_SERIOUS', 'PAX_INJ_FATAL', 'PAX_INJ_UNK', 'GRND_INJ_NONE',\n",
              "       'GRND_INJ_MINOR', 'GRND_INJ_SERIOUS', 'GRND_INJ_FATAL', 'GRND_INJ_UNK'],\n",
              "      dtype='object')"
            ]
          },
          "metadata": {
            "tags": []
          },
          "execution_count": 59
        }
      ]
    },
    {
      "cell_type": "code",
      "metadata": {
        "id": "Hcp-3-YMK107"
      },
      "source": [
        "df_faa = faa[['ACFT_MAKE_NAME','LOC_STATE_NAME','ACFT_MODEL_NAME','RMK_TEXT','FLT_PHASE',\n",
        "             'EVENT_TYPE_DESC','FATAL_FLAG']]"
      ],
      "execution_count": 107,
      "outputs": []
    },
    {
      "cell_type": "code",
      "metadata": {
        "colab": {
          "base_uri": "https://localhost:8080/"
        },
        "id": "Ry_TnbWyLrM-",
        "outputId": "04977efc-6073-4458-e724-6e219c4d2dde"
      },
      "source": [
        "df_faa.shape"
      ],
      "execution_count": 100,
      "outputs": [
        {
          "output_type": "execute_result",
          "data": {
            "text/plain": [
              "(83, 7)"
            ]
          },
          "metadata": {
            "tags": []
          },
          "execution_count": 100
        }
      ]
    },
    {
      "cell_type": "code",
      "metadata": {
        "id": "BHNjfidcL1tK"
      },
      "source": [
        "df_faa.isna()"
      ],
      "execution_count": null,
      "outputs": []
    },
    {
      "cell_type": "code",
      "metadata": {
        "colab": {
          "base_uri": "https://localhost:8080/"
        },
        "id": "uCSEegH0L5tC",
        "outputId": "62648858-c73f-49d1-9031-00e28a1eca3c"
      },
      "source": [
        "df_faa['FATAL_FLAG'].fillna(value = 'No',inplace = True)"
      ],
      "execution_count": 108,
      "outputs": [
        {
          "output_type": "stream",
          "text": [
            "/usr/local/lib/python3.7/dist-packages/pandas/core/series.py:4536: SettingWithCopyWarning: \n",
            "A value is trying to be set on a copy of a slice from a DataFrame\n",
            "\n",
            "See the caveats in the documentation: https://pandas.pydata.org/pandas-docs/stable/user_guide/indexing.html#returning-a-view-versus-a-copy\n",
            "  downcast=downcast,\n"
          ],
          "name": "stderr"
        }
      ]
    },
    {
      "cell_type": "code",
      "metadata": {
        "colab": {
          "base_uri": "https://localhost:8080/",
          "height": 419
        },
        "id": "OPN2Q-KqRfPt",
        "outputId": "9cd0880f-ef71-46cf-b951-673dec00b6da"
      },
      "source": [
        "df_faa"
      ],
      "execution_count": 109,
      "outputs": [
        {
          "output_type": "execute_result",
          "data": {
            "text/html": [
              "<div>\n",
              "<style scoped>\n",
              "    .dataframe tbody tr th:only-of-type {\n",
              "        vertical-align: middle;\n",
              "    }\n",
              "\n",
              "    .dataframe tbody tr th {\n",
              "        vertical-align: top;\n",
              "    }\n",
              "\n",
              "    .dataframe thead th {\n",
              "        text-align: right;\n",
              "    }\n",
              "</style>\n",
              "<table border=\"1\" class=\"dataframe\">\n",
              "  <thead>\n",
              "    <tr style=\"text-align: right;\">\n",
              "      <th></th>\n",
              "      <th>ACFT_MAKE_NAME</th>\n",
              "      <th>LOC_STATE_NAME</th>\n",
              "      <th>ACFT_MODEL_NAME</th>\n",
              "      <th>RMK_TEXT</th>\n",
              "      <th>FLT_PHASE</th>\n",
              "      <th>EVENT_TYPE_DESC</th>\n",
              "      <th>FATAL_FLAG</th>\n",
              "    </tr>\n",
              "  </thead>\n",
              "  <tbody>\n",
              "    <tr>\n",
              "      <th>0</th>\n",
              "      <td>BEECH</td>\n",
              "      <td>North Carolina</td>\n",
              "      <td>36</td>\n",
              "      <td>AIRCRAFT CRASHED INTO TREES, THE 1 PERSON ON B...</td>\n",
              "      <td>UNKNOWN (UNK)</td>\n",
              "      <td>Accident</td>\n",
              "      <td>Yes</td>\n",
              "    </tr>\n",
              "    <tr>\n",
              "      <th>1</th>\n",
              "      <td>VANS</td>\n",
              "      <td>Florida</td>\n",
              "      <td>RV7</td>\n",
              "      <td>AIRCRAFT ON LANDING WENT OFF THE END OF THE RU...</td>\n",
              "      <td>LANDING (LDG)</td>\n",
              "      <td>Incident</td>\n",
              "      <td>No</td>\n",
              "    </tr>\n",
              "    <tr>\n",
              "      <th>2</th>\n",
              "      <td>CESSNA</td>\n",
              "      <td>New Jersey</td>\n",
              "      <td>172</td>\n",
              "      <td>AIRCRAFT ON FINAL SUSTAINED A BIRD STRIKE, LAN...</td>\n",
              "      <td>APPROACH (APR)</td>\n",
              "      <td>Incident</td>\n",
              "      <td>No</td>\n",
              "    </tr>\n",
              "    <tr>\n",
              "      <th>3</th>\n",
              "      <td>LANCAIR</td>\n",
              "      <td>North Carolina</td>\n",
              "      <td>235</td>\n",
              "      <td>AIRCRAFT ON LANDING, GEAR COLLAPSED, ASHEVILLE...</td>\n",
              "      <td>LANDING (LDG)</td>\n",
              "      <td>Incident</td>\n",
              "      <td>No</td>\n",
              "    </tr>\n",
              "    <tr>\n",
              "      <th>4</th>\n",
              "      <td>CESSNA</td>\n",
              "      <td>Alaska</td>\n",
              "      <td>172</td>\n",
              "      <td>AIRCRAFT ON LANDING, NOSE GEAR COLLAPSED, TALK...</td>\n",
              "      <td>LANDING (LDG)</td>\n",
              "      <td>Incident</td>\n",
              "      <td>No</td>\n",
              "    </tr>\n",
              "    <tr>\n",
              "      <th>...</th>\n",
              "      <td>...</td>\n",
              "      <td>...</td>\n",
              "      <td>...</td>\n",
              "      <td>...</td>\n",
              "      <td>...</td>\n",
              "      <td>...</td>\n",
              "      <td>...</td>\n",
              "    </tr>\n",
              "    <tr>\n",
              "      <th>78</th>\n",
              "      <td>AERONCA</td>\n",
              "      <td>Texas</td>\n",
              "      <td>O58B</td>\n",
              "      <td>AIRCRAFT ON LANDING, GROUND LOOPED, BULVERDE A...</td>\n",
              "      <td>LANDING (LDG)</td>\n",
              "      <td>Accident</td>\n",
              "      <td>No</td>\n",
              "    </tr>\n",
              "    <tr>\n",
              "      <th>79</th>\n",
              "      <td>NORTH AMERICAN</td>\n",
              "      <td>Arizona</td>\n",
              "      <td>F51</td>\n",
              "      <td>AIRCRAFT CRASHED UNDER UNKNOWN CIRCUMSTANCES, ...</td>\n",
              "      <td>UNKNOWN (UNK)</td>\n",
              "      <td>Accident</td>\n",
              "      <td>Yes</td>\n",
              "    </tr>\n",
              "    <tr>\n",
              "      <th>80</th>\n",
              "      <td>CHAMPION</td>\n",
              "      <td>California</td>\n",
              "      <td>8KCAB</td>\n",
              "      <td>N9872R, BEECH M35 AIRCRAFT, AND N5057G, BELLAN...</td>\n",
              "      <td>UNKNOWN (UNK)</td>\n",
              "      <td>Accident</td>\n",
              "      <td>Yes</td>\n",
              "    </tr>\n",
              "    <tr>\n",
              "      <th>81</th>\n",
              "      <td>BEECH</td>\n",
              "      <td>California</td>\n",
              "      <td>35</td>\n",
              "      <td>N9872R, BEECH M35 AIRCRAFT, AND N5057G, BELLAN...</td>\n",
              "      <td>UNKNOWN (UNK)</td>\n",
              "      <td>Accident</td>\n",
              "      <td>Yes</td>\n",
              "    </tr>\n",
              "    <tr>\n",
              "      <th>82</th>\n",
              "      <td>CESSNA</td>\n",
              "      <td>Alabama</td>\n",
              "      <td>182</td>\n",
              "      <td>N784CP AIRCRAFT CRASHED INTO A WOODED AREA NEA...</td>\n",
              "      <td>UNKNOWN (UNK)</td>\n",
              "      <td>Accident</td>\n",
              "      <td>Yes</td>\n",
              "    </tr>\n",
              "  </tbody>\n",
              "</table>\n",
              "<p>83 rows × 7 columns</p>\n",
              "</div>"
            ],
            "text/plain": [
              "    ACFT_MAKE_NAME  LOC_STATE_NAME  ... EVENT_TYPE_DESC FATAL_FLAG\n",
              "0            BEECH  North Carolina  ...        Accident        Yes\n",
              "1             VANS         Florida  ...        Incident         No\n",
              "2           CESSNA      New Jersey  ...        Incident         No\n",
              "3          LANCAIR  North Carolina  ...        Incident         No\n",
              "4           CESSNA          Alaska  ...        Incident         No\n",
              "..             ...             ...  ...             ...        ...\n",
              "78         AERONCA           Texas  ...        Accident         No\n",
              "79  NORTH AMERICAN         Arizona  ...        Accident        Yes\n",
              "80        CHAMPION      California  ...        Accident        Yes\n",
              "81           BEECH      California  ...        Accident        Yes\n",
              "82          CESSNA         Alabama  ...        Accident        Yes\n",
              "\n",
              "[83 rows x 7 columns]"
            ]
          },
          "metadata": {
            "tags": []
          },
          "execution_count": 109
        }
      ]
    },
    {
      "cell_type": "code",
      "metadata": {
        "id": "8BozoWSdMGtK"
      },
      "source": [
        ""
      ],
      "execution_count": 76,
      "outputs": []
    },
    {
      "cell_type": "code",
      "metadata": {
        "colab": {
          "base_uri": "https://localhost:8080/"
        },
        "id": "96U60-7bMRUC",
        "outputId": "d8b199fc-ffe7-4ba9-fd42-f9a172ff9682"
      },
      "source": [
        "df_faa.shape"
      ],
      "execution_count": 110,
      "outputs": [
        {
          "output_type": "execute_result",
          "data": {
            "text/plain": [
              "(83, 7)"
            ]
          },
          "metadata": {
            "tags": []
          },
          "execution_count": 110
        }
      ]
    },
    {
      "cell_type": "markdown",
      "metadata": {
        "id": "YdZ7lHjSN2cI"
      },
      "source": [
        ""
      ]
    },
    {
      "cell_type": "code",
      "metadata": {
        "id": "YfBEFZW8NtiD"
      },
      "source": [
        "acft_type = df_faa.groupby('ACFT_MAKE_NAME')"
      ],
      "execution_count": 111,
      "outputs": []
    },
    {
      "cell_type": "code",
      "metadata": {
        "colab": {
          "base_uri": "https://localhost:8080/"
        },
        "id": "r7N3P29XN0vz",
        "outputId": "f8c12cb9-5a63-4e6c-f09e-0238f90d87c9"
      },
      "source": [
        "print(acft_type)"
      ],
      "execution_count": 112,
      "outputs": [
        {
          "output_type": "stream",
          "text": [
            "<pandas.core.groupby.generic.DataFrameGroupBy object at 0x7faccc27ecd0>\n"
          ],
          "name": "stdout"
        }
      ]
    },
    {
      "cell_type": "code",
      "metadata": {
        "colab": {
          "base_uri": "https://localhost:8080/"
        },
        "id": "lGGwwt8qN7Cz",
        "outputId": "b7468fe1-69a0-4c24-bc16-c8b1bbe9ce37"
      },
      "source": [
        "acft_type.size()"
      ],
      "execution_count": 113,
      "outputs": [
        {
          "output_type": "execute_result",
          "data": {
            "text/plain": [
              "ACFT_MAKE_NAME\n",
              "AERO COMMANDER             1\n",
              "AERONCA                    1\n",
              "AEROSTAR INTERNATIONAL     1\n",
              "AIRBUS                     1\n",
              "BEECH                      9\n",
              "BELL                       2\n",
              "BOEING                     3\n",
              "CESSNA                    23\n",
              "CHAMPION                   2\n",
              "CHRISTEN                   1\n",
              "CONSOLIDATED VULTEE        1\n",
              "EMBRAER                    1\n",
              "ENSTROM                    1\n",
              "FAIRCHILD                  1\n",
              "FLIGHT DESIGN              1\n",
              "GLOBE                      1\n",
              "GREAT LAKES                1\n",
              "GRUMMAN                    1\n",
              "GULFSTREAM                 1\n",
              "HUGHES                     1\n",
              "LANCAIR                    2\n",
              "MAULE                      1\n",
              "MOONEY                     4\n",
              "NORTH AMERICAN             1\n",
              "PIPER                     10\n",
              "PITTS                      1\n",
              "SAAB                       1\n",
              "SABRELINER                 1\n",
              "SOCATA                     2\n",
              "VANS                       1\n",
              "dtype: int64"
            ]
          },
          "metadata": {
            "tags": []
          },
          "execution_count": 113
        }
      ]
    },
    {
      "cell_type": "code",
      "metadata": {
        "id": "Ean4bgZWOVfE"
      },
      "source": [
        "df_faa = df_faa.dropna(subset = ['ACFT_MAKE_NAME'])"
      ],
      "execution_count": 116,
      "outputs": []
    },
    {
      "cell_type": "code",
      "metadata": {
        "colab": {
          "base_uri": "https://localhost:8080/"
        },
        "id": "OHnj9qsBR2ki",
        "outputId": "20b1e608-706f-41d9-b673-c13a6dc258b9"
      },
      "source": [
        "df_faa.shape"
      ],
      "execution_count": 118,
      "outputs": [
        {
          "output_type": "execute_result",
          "data": {
            "text/plain": [
              "(78, 7)"
            ]
          },
          "metadata": {
            "tags": []
          },
          "execution_count": 118
        }
      ]
    },
    {
      "cell_type": "code",
      "metadata": {
        "id": "W1MHK8cTQfvd"
      },
      "source": [
        "GRP = df_faa.groupby('FATAL_FLAG')"
      ],
      "execution_count": 121,
      "outputs": []
    },
    {
      "cell_type": "code",
      "metadata": {
        "colab": {
          "base_uri": "https://localhost:8080/"
        },
        "id": "TIl_WIflSg--",
        "outputId": "14a5ccef-aa4b-4ffd-a9d2-897852cb7535"
      },
      "source": [
        "GRP.size()"
      ],
      "execution_count": 124,
      "outputs": [
        {
          "output_type": "execute_result",
          "data": {
            "text/plain": [
              "FATAL_FLAG\n",
              "No     71\n",
              "Yes     7\n",
              "dtype: int64"
            ]
          },
          "metadata": {
            "tags": []
          },
          "execution_count": 124
        }
      ]
    },
    {
      "cell_type": "code",
      "metadata": {
        "id": "WMr9gbKFSt0s"
      },
      "source": [
        "fatal_accidents = GRP.get_group('Yes')"
      ],
      "execution_count": 129,
      "outputs": []
    },
    {
      "cell_type": "code",
      "metadata": {
        "colab": {
          "base_uri": "https://localhost:8080/",
          "height": 266
        },
        "id": "x9smF5-4TMra",
        "outputId": "f9ae30d3-8027-46ec-ca17-ef8bc9a2ed0c"
      },
      "source": [
        "fatal_accidents"
      ],
      "execution_count": 130,
      "outputs": [
        {
          "output_type": "execute_result",
          "data": {
            "text/html": [
              "<div>\n",
              "<style scoped>\n",
              "    .dataframe tbody tr th:only-of-type {\n",
              "        vertical-align: middle;\n",
              "    }\n",
              "\n",
              "    .dataframe tbody tr th {\n",
              "        vertical-align: top;\n",
              "    }\n",
              "\n",
              "    .dataframe thead th {\n",
              "        text-align: right;\n",
              "    }\n",
              "</style>\n",
              "<table border=\"1\" class=\"dataframe\">\n",
              "  <thead>\n",
              "    <tr style=\"text-align: right;\">\n",
              "      <th></th>\n",
              "      <th>ACFT_MAKE_NAME</th>\n",
              "      <th>LOC_STATE_NAME</th>\n",
              "      <th>ACFT_MODEL_NAME</th>\n",
              "      <th>RMK_TEXT</th>\n",
              "      <th>FLT_PHASE</th>\n",
              "      <th>EVENT_TYPE_DESC</th>\n",
              "      <th>FATAL_FLAG</th>\n",
              "    </tr>\n",
              "  </thead>\n",
              "  <tbody>\n",
              "    <tr>\n",
              "      <th>0</th>\n",
              "      <td>BEECH</td>\n",
              "      <td>North Carolina</td>\n",
              "      <td>36</td>\n",
              "      <td>AIRCRAFT CRASHED INTO TREES, THE 1 PERSON ON B...</td>\n",
              "      <td>UNKNOWN (UNK)</td>\n",
              "      <td>Accident</td>\n",
              "      <td>Yes</td>\n",
              "    </tr>\n",
              "    <tr>\n",
              "      <th>53</th>\n",
              "      <td>PIPER</td>\n",
              "      <td>Florida</td>\n",
              "      <td>PA28</td>\n",
              "      <td>AIRCRAFT CRASHED UNDER UNKNOWN CIRCUMSTANCES. ...</td>\n",
              "      <td>UNKNOWN (UNK)</td>\n",
              "      <td>Accident</td>\n",
              "      <td>Yes</td>\n",
              "    </tr>\n",
              "    <tr>\n",
              "      <th>55</th>\n",
              "      <td>FLIGHT DESIGN</td>\n",
              "      <td>California</td>\n",
              "      <td>CTLS</td>\n",
              "      <td>AIRCRAFT CRASHED UNDER UNKNOWN CIRCUMSTANCES A...</td>\n",
              "      <td>UNKNOWN (UNK)</td>\n",
              "      <td>Accident</td>\n",
              "      <td>Yes</td>\n",
              "    </tr>\n",
              "    <tr>\n",
              "      <th>79</th>\n",
              "      <td>NORTH AMERICAN</td>\n",
              "      <td>Arizona</td>\n",
              "      <td>F51</td>\n",
              "      <td>AIRCRAFT CRASHED UNDER UNKNOWN CIRCUMSTANCES, ...</td>\n",
              "      <td>UNKNOWN (UNK)</td>\n",
              "      <td>Accident</td>\n",
              "      <td>Yes</td>\n",
              "    </tr>\n",
              "    <tr>\n",
              "      <th>80</th>\n",
              "      <td>CHAMPION</td>\n",
              "      <td>California</td>\n",
              "      <td>8KCAB</td>\n",
              "      <td>N9872R, BEECH M35 AIRCRAFT, AND N5057G, BELLAN...</td>\n",
              "      <td>UNKNOWN (UNK)</td>\n",
              "      <td>Accident</td>\n",
              "      <td>Yes</td>\n",
              "    </tr>\n",
              "    <tr>\n",
              "      <th>81</th>\n",
              "      <td>BEECH</td>\n",
              "      <td>California</td>\n",
              "      <td>35</td>\n",
              "      <td>N9872R, BEECH M35 AIRCRAFT, AND N5057G, BELLAN...</td>\n",
              "      <td>UNKNOWN (UNK)</td>\n",
              "      <td>Accident</td>\n",
              "      <td>Yes</td>\n",
              "    </tr>\n",
              "    <tr>\n",
              "      <th>82</th>\n",
              "      <td>CESSNA</td>\n",
              "      <td>Alabama</td>\n",
              "      <td>182</td>\n",
              "      <td>N784CP AIRCRAFT CRASHED INTO A WOODED AREA NEA...</td>\n",
              "      <td>UNKNOWN (UNK)</td>\n",
              "      <td>Accident</td>\n",
              "      <td>Yes</td>\n",
              "    </tr>\n",
              "  </tbody>\n",
              "</table>\n",
              "</div>"
            ],
            "text/plain": [
              "    ACFT_MAKE_NAME  LOC_STATE_NAME  ... EVENT_TYPE_DESC FATAL_FLAG\n",
              "0            BEECH  North Carolina  ...        Accident        Yes\n",
              "53           PIPER         Florida  ...        Accident        Yes\n",
              "55   FLIGHT DESIGN      California  ...        Accident        Yes\n",
              "79  NORTH AMERICAN         Arizona  ...        Accident        Yes\n",
              "80        CHAMPION      California  ...        Accident        Yes\n",
              "81           BEECH      California  ...        Accident        Yes\n",
              "82          CESSNA         Alabama  ...        Accident        Yes\n",
              "\n",
              "[7 rows x 7 columns]"
            ]
          },
          "metadata": {
            "tags": []
          },
          "execution_count": 130
        }
      ]
    },
    {
      "cell_type": "code",
      "metadata": {
        "id": "d461SMoOTppK"
      },
      "source": [
        ""
      ],
      "execution_count": null,
      "outputs": []
    }
  ]
}