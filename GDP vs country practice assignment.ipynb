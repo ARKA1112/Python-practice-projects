{
 "cells": [
  {
   "cell_type": "markdown",
   "metadata": {},
   "source": [
    "<img src=\"http://cfs22.simplicdn.net/ice9/new_logo.svgz \"/>\n",
    "\n",
    "# Assignment 01: Evaluate the GDP Dataset\n",
    "\n",
    "*The comments/sections provided are your cues to perform the assignment. You don't need to limit yourself to the number of rows/cells provided. You can add additional rows in each section to add more lines of code.*\n",
    "\n",
    "*If at any point in time you need help on solving this assignment, view our demo video to understand the different steps of the code.*\n",
    "\n",
    "**Happy coding!**\n",
    "\n",
    "* * *"
   ]
  },
  {
   "cell_type": "markdown",
   "metadata": {},
   "source": [
    "#### 1: View and add the dataset"
   ]
  },
  {
   "cell_type": "code",
   "execution_count": 9,
   "metadata": {},
   "outputs": [],
   "source": [
    "#Import required library\n",
    "import numpy as np "
   ]
  },
  {
   "cell_type": "code",
   "execution_count": 12,
   "metadata": {},
   "outputs": [],
   "source": [
    "#Manually add the dataset\n",
    "List_of_countries = np.array(['Algeria','Angola','Argentina','Australia','Austria','Bahamas','Bangladesh','Belarus',\n",
    "                              'Belgium','Bhutan','Brazil','Bulgaria','Cambodia','Cameroon','Chile','China','Colombia',\n",
    "                              'Cyprus','Denmark','El Salvador','Estonia','Ethiopia','Fiji','Finland',\n",
    "                              'France','Georgia','Ghana','Grenada','Guinea','Haiti','Honduras','Hungary',\n",
    "                              'India','Indonesia','Ireland','Italy','Japan','Kenya', 'South Korea','Liberia','Malaysia',\n",
    "                              'Mexico', 'Morocco','Nepal','New Zealand','Norway','Pakistan', 'Peru','Qatar','Russia',\n",
    "                              'Singapore','SouthAfrica','Spain',\n",
    "                              'Sweden','Switzerland','Thailand', 'UnitedArabEmirates','UnitedKingdom','UnitedStates',\n",
    "                              'Uruguay','Venezuela','Vietnam','Zimbabwe'])\n",
    "\n",
    "\n",
    "GDP_values_for_each_country = np.array([2255.225482,629.9553062,11601.63022,25306.82494,27266.40335,19466.99052,588.3691778,2890.345675,\n",
    "                               24733.62696,1445.760002,4803.398244,2618.876037,590.4521124,665.7982328,7122.938458,2639.54156,3362.4656,15378.16704,\n",
    "                               30860.12808,2579.115607,6525.541272,229.6769525,2242.689259,27570.4852,23016.84778,1334.646773,402.6953275,6047.200797,\n",
    "                               394.1156638,385.5793827,1414.072488,5745.981529,837.7464011,1206.991065,27715.52837,18937.24998,39578.07441,478.2194906,\n",
    "                               16684.21278,279.2204061,5345.213415,6288.25324,1908.304416,274.8728621,14646.42094,40034.85063,672.1547506,3359.517402,\n",
    "                               36152.66676,3054.727742,33529.83052,3825.093781,15428.32098,33630.24604,39170.41371,2699.123242,21058.43643,28272.40661,\n",
    "                               37691.02733,9581.05659,5671.912202,757.4009286,347.7456605])"
   ]
  },
  {
   "cell_type": "markdown",
   "metadata": {
    "collapsed": true
   },
   "source": [
    "#### 2: Find and print the name of the country with the highest GDP"
   ]
  },
  {
   "cell_type": "code",
   "execution_count": 20,
   "metadata": {},
   "outputs": [
    {
     "data": {
      "text/plain": [
       "40034.85063"
      ]
     },
     "execution_count": 20,
     "metadata": {},
     "output_type": "execute_result"
    }
   ],
   "source": [
    "#Use the argmax() method to find the highest GDP\n",
    "max_GDP = GDP_values_for_each_country.argmax()\n",
    "max_GDP\n",
    "GDP_values_for_each_country[max_GDP]"
   ]
  },
  {
   "cell_type": "code",
   "execution_count": 22,
   "metadata": {},
   "outputs": [
    {
     "data": {
      "text/plain": [
       "'Norway'"
      ]
     },
     "execution_count": 22,
     "metadata": {},
     "output_type": "execute_result"
    }
   ],
   "source": [
    "#Print the name of the country\n",
    "Country_max_GDP = List_of_countries[max_GDP]\n",
    "Country_max_GDP"
   ]
  },
  {
   "cell_type": "markdown",
   "metadata": {},
   "source": [
    "#### 3: Find and print the name of the country with the lowest GDP"
   ]
  },
  {
   "cell_type": "code",
   "execution_count": 25,
   "metadata": {},
   "outputs": [
    {
     "data": {
      "text/plain": [
       "229.6769525"
      ]
     },
     "execution_count": 25,
     "metadata": {},
     "output_type": "execute_result"
    }
   ],
   "source": [
    "#Use the argmin() method to find the lowest GDP\n",
    "min_GDP = GDP_values_for_each_country.argmin()\n",
    "GDP_values_for_each_country[min_GDP]"
   ]
  },
  {
   "cell_type": "code",
   "execution_count": 26,
   "metadata": {},
   "outputs": [
    {
     "data": {
      "text/plain": [
       "'Ethiopia'"
      ]
     },
     "execution_count": 26,
     "metadata": {},
     "output_type": "execute_result"
    }
   ],
   "source": [
    "#Print the name of the country\n",
    "List_of_countries[min_GDP]"
   ]
  },
  {
   "cell_type": "markdown",
   "metadata": {},
   "source": [
    "#### 4: Print out text ('evaluating country') and input value ('country name') iteratively"
   ]
  },
  {
   "cell_type": "code",
   "execution_count": 30,
   "metadata": {},
   "outputs": [
    {
     "name": "stdout",
     "output_type": "stream",
     "text": [
      "evaluating country Algeria\n",
      "evaluating country Angola\n",
      "evaluating country Argentina\n",
      "evaluating country Australia\n",
      "evaluating country Austria\n",
      "evaluating country Bahamas\n",
      "evaluating country Bangladesh\n",
      "evaluating country Belarus\n",
      "evaluating country Belgium\n",
      "evaluating country Bhutan\n",
      "evaluating country Brazil\n",
      "evaluating country Bulgaria\n",
      "evaluating country Cambodia\n",
      "evaluating country Cameroon\n",
      "evaluating country Chile\n",
      "evaluating country China\n",
      "evaluating country Colombia\n",
      "evaluating country Cyprus\n",
      "evaluating country Denmark\n",
      "evaluating country El Salvador\n",
      "evaluating country Estonia\n",
      "evaluating country Ethiopia\n",
      "evaluating country Fiji\n",
      "evaluating country Finland\n",
      "evaluating country France\n",
      "evaluating country Georgia\n",
      "evaluating country Ghana\n",
      "evaluating country Grenada\n",
      "evaluating country Guinea\n",
      "evaluating country Haiti\n",
      "evaluating country Honduras\n",
      "evaluating country Hungary\n",
      "evaluating country India\n",
      "evaluating country Indonesia\n",
      "evaluating country Ireland\n",
      "evaluating country Italy\n",
      "evaluating country Japan\n",
      "evaluating country Kenya\n",
      "evaluating country South Korea\n",
      "evaluating country Liberia\n",
      "evaluating country Malaysia\n",
      "evaluating country Mexico\n",
      "evaluating country Morocco\n",
      "evaluating country Nepal\n",
      "evaluating country New Zealand\n",
      "evaluating country Norway\n",
      "evaluating country Pakistan\n",
      "evaluating country Peru\n",
      "evaluating country Qatar\n",
      "evaluating country Russia\n",
      "evaluating country Singapore\n",
      "evaluating country SouthAfrica\n",
      "evaluating country Spain\n",
      "evaluating country Sweden\n",
      "evaluating country Switzerland\n",
      "evaluating country Thailand\n",
      "evaluating country UnitedArabEmirates\n",
      "evaluating country UnitedKingdom\n",
      "evaluating country UnitedStates\n",
      "evaluating country Uruguay\n",
      "evaluating country Venezuela\n",
      "evaluating country Vietnam\n",
      "evaluating country Zimbabwe\n"
     ]
    }
   ],
   "source": [
    "#Use a for loop to print the required output\n",
    "for nation in List_of_countries:\n",
    "    print('evaluating country',format(nation))"
   ]
  },
  {
   "cell_type": "markdown",
   "metadata": {},
   "source": [
    "#### 5: Print out the entire list of the countries with their GDPs"
   ]
  },
  {
   "cell_type": "code",
   "execution_count": 32,
   "metadata": {},
   "outputs": [
    {
     "name": "stdout",
     "output_type": "stream",
     "text": [
      "The GDP of Algeria is 2255.225482\n",
      "The GDP of Angola is 629.9553062\n",
      "The GDP of Argentina is 11601.63022\n",
      "The GDP of Australia is 25306.82494\n",
      "The GDP of Austria is 27266.40335\n",
      "The GDP of Bahamas is 19466.99052\n",
      "The GDP of Bangladesh is 588.3691778\n",
      "The GDP of Belarus is 2890.345675\n",
      "The GDP of Belgium is 24733.62696\n",
      "The GDP of Bhutan is 1445.760002\n",
      "The GDP of Brazil is 4803.398244\n",
      "The GDP of Bulgaria is 2618.876037\n",
      "The GDP of Cambodia is 590.4521124\n",
      "The GDP of Cameroon is 665.7982328\n",
      "The GDP of Chile is 7122.938458\n",
      "The GDP of China is 2639.54156\n",
      "The GDP of Colombia is 3362.4656\n",
      "The GDP of Cyprus is 15378.16704\n",
      "The GDP of Denmark is 30860.12808\n",
      "The GDP of El Salvador is 2579.115607\n",
      "The GDP of Estonia is 6525.541272\n",
      "The GDP of Ethiopia is 229.6769525\n",
      "The GDP of Fiji is 2242.689259\n",
      "The GDP of Finland is 27570.4852\n",
      "The GDP of France is 23016.84778\n",
      "The GDP of Georgia is 1334.646773\n",
      "The GDP of Ghana is 402.6953275\n",
      "The GDP of Grenada is 6047.200797\n",
      "The GDP of Guinea is 394.1156638\n",
      "The GDP of Haiti is 385.5793827\n",
      "The GDP of Honduras is 1414.072488\n",
      "The GDP of Hungary is 5745.981529\n",
      "The GDP of India is 837.7464011\n",
      "The GDP of Indonesia is 1206.991065\n",
      "The GDP of Ireland is 27715.52837\n",
      "The GDP of Italy is 18937.24998\n",
      "The GDP of Japan is 39578.07441\n",
      "The GDP of Kenya is 478.2194906\n",
      "The GDP of South Korea is 16684.21278\n",
      "The GDP of Liberia is 279.2204061\n",
      "The GDP of Malaysia is 5345.213415\n",
      "The GDP of Mexico is 6288.25324\n",
      "The GDP of Morocco is 1908.304416\n",
      "The GDP of Nepal is 274.8728621\n",
      "The GDP of New Zealand is 14646.42094\n",
      "The GDP of Norway is 40034.85063\n",
      "The GDP of Pakistan is 672.1547506\n",
      "The GDP of Peru is 3359.517402\n",
      "The GDP of Qatar is 36152.66676\n",
      "The GDP of Russia is 3054.727742\n",
      "The GDP of Singapore is 33529.83052\n",
      "The GDP of SouthAfrica is 3825.093781\n",
      "The GDP of Spain is 15428.32098\n",
      "The GDP of Sweden is 33630.24604\n",
      "The GDP of Switzerland is 39170.41371\n",
      "The GDP of Thailand is 2699.123242\n",
      "The GDP of UnitedArabEmirates is 21058.43643\n",
      "The GDP of UnitedKingdom is 28272.40661\n",
      "The GDP of UnitedStates is 37691.02733\n",
      "The GDP of Uruguay is 9581.05659\n",
      "The GDP of Venezuela is 5671.912202\n",
      "The GDP of Vietnam is 757.4009286\n",
      "The GDP of Zimbabwe is 347.7456605\n"
     ]
    }
   ],
   "source": [
    "#Use a for loop to print the required list\n",
    "for i in range(len(GDP_values_for_each_country)):\n",
    "    country = List_of_countries[i]\n",
    "    GDP = GDP_values_for_each_country[i]\n",
    "    print('The GDP of {} is {}'.format(country,GDP))"
   ]
  },
  {
   "cell_type": "markdown",
   "metadata": {},
   "source": [
    "#### 6: Print the following:\n",
    "1. Highest GPD value\n",
    "2. Lowest GDP value\n",
    "3. Mean GDP value\n",
    "4. Standardized GDP value\n",
    "5. Sum of all the GDPs"
   ]
  },
  {
   "cell_type": "code",
   "execution_count": 39,
   "metadata": {},
   "outputs": [
    {
     "name": "stdout",
     "output_type": "stream",
     "text": [
      "max gdp 40034.85063\n",
      "min gdp 229.6769525\n",
      "mean gdp 11289.409271639683\n",
      "Standardised gdp 12743.828910617945\n",
      "Sum 711232.7841133\n"
     ]
    }
   ],
   "source": [
    "print('max gdp',GDP_values_for_each_country.max())\n",
    "print('min gdp',GDP_values_for_each_country.min())\n",
    "print('mean gdp',GDP_values_for_each_country.mean())\n",
    "print('Standardised gdp',GDP_values_for_each_country.std())\n",
    "print('Sum',GDP_values_for_each_country.sum())"
   ]
  },
  {
   "cell_type": "code",
   "execution_count": null,
   "metadata": {},
   "outputs": [],
   "source": []
  }
 ],
 "metadata": {
  "kernelspec": {
   "display_name": "Python 3",
   "language": "python",
   "name": "python3"
  },
  "language_info": {
   "codemirror_mode": {
    "name": "ipython",
    "version": 3
   },
   "file_extension": ".py",
   "mimetype": "text/x-python",
   "name": "python",
   "nbconvert_exporter": "python",
   "pygments_lexer": "ipython3",
   "version": "3.7.6"
  }
 },
 "nbformat": 4,
 "nbformat_minor": 1
}
