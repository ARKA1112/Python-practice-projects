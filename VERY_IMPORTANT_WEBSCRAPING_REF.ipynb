{
  "nbformat": 4,
  "nbformat_minor": 0,
  "metadata": {
    "colab": {
      "name": "VERY IMPORTANT WEBSCRAPING REF.ipynb",
      "provenance": [],
      "collapsed_sections": [],
      "authorship_tag": "ABX9TyMTEq36B626vmmMCA52jjXL",
      "include_colab_link": true
    },
    "kernelspec": {
      "name": "python3",
      "display_name": "Python 3"
    },
    "language_info": {
      "name": "python"
    }
  },
  "cells": [
    {
      "cell_type": "markdown",
      "metadata": {
        "id": "view-in-github",
        "colab_type": "text"
      },
      "source": [
        "<a href=\"https://colab.research.google.com/github/ARKA1112/Python-practice-projects/blob/master/VERY_IMPORTANT_WEBSCRAPING_REF.ipynb\" target=\"_parent\"><img src=\"https://colab.research.google.com/assets/colab-badge.svg\" alt=\"Open In Colab\"/></a>"
      ]
    },
    {
      "cell_type": "code",
      "metadata": {
        "id": "dBdECVv2FHkS"
      },
      "source": [
        "from bs4 import BeautifulSoup\n",
        "import pandas as pd\n",
        "import requests\n",
        "import re                                                            \n",
        "import numpy as np"
      ],
      "execution_count": 67,
      "outputs": []
    },
    {
      "cell_type": "markdown",
      "metadata": {
        "id": "TfqTis-5cOhf"
      },
      "source": [
        "ABOVE WE HAVE IMPORTED THE NECESSARY LIBRARIES FRO WEBSCRAPING"
      ]
    },
    {
      "cell_type": "markdown",
      "metadata": {
        "id": "sNhfND9ecN5K"
      },
      "source": [
        ""
      ]
    },
    {
      "cell_type": "code",
      "metadata": {
        "id": "9NQI5afMcM6Y"
      },
      "source": [
        ""
      ],
      "execution_count": null,
      "outputs": []
    },
    {
      "cell_type": "code",
      "metadata": {
        "id": "Bbd3RoQqFMvI"
      },
      "source": [
        "url = 'https://www.ratatype.com/u3445760/certification-results/'"
      ],
      "execution_count": 5,
      "outputs": []
    },
    {
      "cell_type": "code",
      "metadata": {
        "id": "HxjZNPCjFxIQ"
      },
      "source": [
        "url_text = requests.get(url)"
      ],
      "execution_count": 7,
      "outputs": []
    },
    {
      "cell_type": "code",
      "metadata": {
        "id": "BlVqpc2oGZ2X"
      },
      "source": [
        "url_text = url_text.content"
      ],
      "execution_count": 11,
      "outputs": []
    },
    {
      "cell_type": "code",
      "metadata": {
        "colab": {
          "base_uri": "https://localhost:8080/"
        },
        "id": "aHBpQpluGzC4",
        "outputId": "4a1265a5-fb4e-4bff-8954-967c22c02ee5"
      },
      "source": [
        "print(url_text)"
      ],
      "execution_count": 14,
      "outputs": [
        {
          "output_type": "stream",
          "text": [
            "b'<!DOCTYPE html>\\n<html xmlns:fb=\"http://ogp.me/ns/fb#\" xmlns:og=\"http://ogp.me/ns#\">\\n<head>\\n\\t<script>\\n\\t\\tvar host = \\'https://www.ratatype.com\\';\\n\\t</script>\\n\\n\\t<meta name=\"twitter:card\" content=\"summary_large_image\">\\n\\t<meta name=\"twitter:site\" content=\"@workuamedia\">\\n    \\n    \\t<meta name=\"msapplication-config\" content=\"/browser/ie/browserconfig.xml\"/>\\n\\t<link rel=\"shortcut icon\" href=\"/browser/favicon.ico\">\\n\\t<link rel=\"apple-touch-icon\" sizes=\"60x60\" href=\"/browser/safari/apple-touch-icon-60x60.png\">\\n\\t<link rel=\"apple-touch-icon\" sizes=\"76x76\" href=\"/browser/safari/apple-touch-icon-76x76.png\">\\n\\t<link rel=\"apple-touch-icon\" sizes=\"120x120\" href=\"/browser/safari/apple-touch-icon-120x120.png\">\\n\\t<link rel=\"apple-touch-icon\" sizes=\"152x152\" href=\"/browser/safari/apple-touch-icon-152x152.png\">\\n\\t<link rel=\"apple-touch-icon\" sizes=\"167x167\" href=\"/browser/safari/apple-touch-icon-167x167.png\">\\n\\t<link rel=\"apple-touch-icon\" sizes=\"180x180\" href=\"/browser/safari/apple-touch-icon-180x180.png\">\\n\\t<link rel=\"mask-icon\" href=\"/browser/safari/website_icon_v2.svg\" color=\"#39b5f9\">\\n    \\n\\t\\t<script>\\n\\t\\tdataLayer=[{userType:\\'unreg\\'}];\\n\\t\\t(function(w,d,s,l,i){w[l]=w[l]||[];w[l].push({\\'gtm.start\\':\\n\\t\\tnew Date().getTime(),event:\\'gtm.js\\'});var f=d.getElementsByTagName(s)[0],\\n\\t\\tj=d.createElement(s),dl=l!=\\'dataLayer\\'?\\'&l=\\'+l:\\'\\';j.async=true;j.src=\\n\\t\\t\\'https://www.googletagmanager.com/gtm.js?id=\\'+i+dl;f.parentNode.insertBefore(j,f);\\n\\t\\t})(window,document,\\'script\\',\\'dataLayer\\',\\'GTM-PXL2SHM\\');</script>\\n\\t\\t\\n\\t\\n    <meta name=\"Keywords\" content=\"Typing tutor, typing test, touch typing, typing speed certificates, learn to type, touch-typing, typing lessons, free online typing lessons, ratatype\" />\\n<meta name=\"Description\" content=\"Mr has passed a total of 14 certification tests. The highest typing speed of 43 WPM with 86.5% accuracy was achieved on July 16, 2021.\" />\\n<meta http-equiv=\"Content-Type\" content=\"text/html; charset=UTF-8\" />\\n<meta http-equiv=\"content-language\" content=\"en-us\" />\\n<meta property=\"fb:app_id\" content=\"353876334709158\" />\\n<meta name=\"robots\" content=\"noindex, nofollow\">\\n<meta property=\"og:url\" content=\"https://www.ratatype.com/u3445760/certification-results/\" />\\n<meta property=\"og:type\" content=\"website\" />\\n<meta property=\"og:image\" content=\"https://www.ratatype.com/static/i/open-graph-logo.png?v=1\" />\\n<meta property=\"og:title\" content=\"Mr\\'s Typing Certification Results \\xe2\\x80\\x94 Ratatype\" />\\n<meta property=\"og:description\" content=\"Mr has passed a total of 14 certification tests. The highest typing speed of 43 WPM with 86.5% accuracy was achieved on July 16, 2021.\" />\\n\\n<title>Mr\\'s Typing Certification Results \\xe2\\x80\\x94 Ratatype</title>\\n<link href=\"/static/css/main-min-1626336176.css\" rel=\"stylesheet\">\\n\\n<!--[if lt IE 9]>\\n<link rel=\"stylesheet\" title=\"default\" href=\"/static/css/ie8.css\" type=\"text/css\" media=\"screen, projection\" />\\n<script type=\"text/javascript\" src=\"http://html5shiv.googlecode.com/svn/trunk/html5.js\"></script>\\n<![endif]-->\\n<script src=\"/js/jquery-1.10.2-min-1539007106.js\"></script>\\n<script src=\"/js/main-min-1626260630.js\"></script>\\n<script src=\"/static/js/plugins-min-1594273329.js\"></script>\\n<script src=\"/static/js/libraries/jquery.cookie-min-1576666147.js\"></script>\\n<script src=\"/locale/en_US/lp-1626263505.js\"></script>\\n<script src=\"/static/js/bs-modals-min-1617883034.js\"></script>\\n<style type=\"text/css\">\\n\\t\\tbody {opacity:0}\\n\\t\\t.container {transition: opacity 150ms ease-in 350ms; opacity:0}\\n\\n\\t.paddLeftSide {\\n\\t\\tpadding:0;\\n\\t\\tmargin:0 40px;\\n\\t}\\n\\t\\n\\t.edt {\\n\\t\\tcursor:pointer;\\n\\t}\\n\\t\\n\\th1.edt:hover {\\n\\t\\ttext-decoration: underline\\n\\t}\\n.oneLine:hover .darkGrey {\\n\\t\\t\\t\\tcolor: #7E8994;\\n\\t\\t\\t}\\n.oneLine:hover .darkGrey {\\n\\t\\t\\t\\tcolor: #7E8994;\\n\\t\\t\\t}\\n.oneLine:hover .darkGrey {\\n\\t\\t\\t\\tcolor: #7E8994;\\n\\t\\t\\t}\\n.oneLine:hover .darkGrey {\\n\\t\\t\\t\\tcolor: #7E8994;\\n\\t\\t\\t}\\n.oneLine:hover .darkGrey {\\n\\t\\t\\t\\tcolor: #7E8994;\\n\\t\\t\\t}\\n.oneLine:hover .darkGrey {\\n\\t\\t\\t\\tcolor: #7E8994;\\n\\t\\t\\t}\\n.oneLine:hover .darkGrey {\\n\\t\\t\\t\\tcolor: #7E8994;\\n\\t\\t\\t}\\n.oneLine:hover .darkGrey {\\n\\t\\t\\t\\tcolor: #7E8994;\\n\\t\\t\\t}\\n.oneLine:hover .darkGrey {\\n\\t\\t\\t\\tcolor: #7E8994;\\n\\t\\t\\t}\\n.oneLine:hover .darkGrey {\\n\\t\\t\\t\\tcolor: #7E8994;\\n\\t\\t\\t}\\n.oneLine:hover .darkGrey {\\n\\t\\t\\t\\tcolor: #7E8994;\\n\\t\\t\\t}\\n.oneLine:hover .darkGrey {\\n\\t\\t\\t\\tcolor: #7E8994;\\n\\t\\t\\t}\\n.oneLine:hover .darkGrey {\\n\\t\\t\\t\\tcolor: #7E8994;\\n\\t\\t\\t}\\n.oneLine:hover .darkGrey {\\n\\t\\t\\t\\tcolor: #7E8994;\\n\\t\\t\\t}\\n</style>\\n</head>\\n<body>\\n\\n\\n\\t\\t<noscript><iframe src=\"https://www.googletagmanager.com/ns.html?id=GTM-PXL2SHM\"\\n\\t\\theight=\"0\" width=\"0\" style=\"display:none;visibility:hidden\"></iframe></noscript>\\n\\t\\t<script src=\"https://connect.facebook.net/en_US/sdk.js#version=v9.0&appId=353876334709158\" async></script>\\n<div class=\"hint\">\\n\\t<a class=\"reportDiv\" href=\"/contact/\">Report a problem</a>\\n</div>\\n<div class=\"center\">\\n<nav class=\"navigation\">\\n\\t<ul>\\n\\t\\t<li class=\"logo-container\">\\n\\t\\t\\t<a href=\"/\" class=\"logo \"><span class=\"hidden\">Ratatype\\'s logo</span>\\n                \\t\\t\\t</a>\\n\\t\\t</li>\\n\\t\\t<li class=\"nav-item\">\\n\\t\\t\\t<a href=\"/#typing-tutor\">Typing Tutor</a>\\n\\t\\t</li>\\n\\t\\t<li class=\"nav-item\">\\n\\t\\t\\t<a data-course-lang=\"true\" href=\"/typing-test/\" >Typing Test</a>\\n\\t\\t</li>\\n\\t\\t<li class=\"nav-item\"><a href=\"/learn/\" >Learn</a>\\n\\t\\t</li>\\n\\t\\t<li class=\"nav-item\">\\n\\t\\t\\t<a data-course-lang=\"true\" href=\"/high-scores/\" \\t\\t\\t   rel=\"nofollow\">High Scores</a></li>\\n        \\t\\t\\t<li class=\"login\">\\n\\t\\t\\t\\t<div></div>\\n\\t\\t\\t\\t<div></div>\\n\\t\\t\\t\\t<a href=\"/login/\" class=\"log\" rel=\"nofollow\">Log In</a>\\n\\t\\t\\t\\t<span>or</span>\\n\\t\\t\\t\\t<a href=\"/signup/\" class=\"inp\" rel=\"nofollow\">Sign Up</a>\\n\\t\\t\\t</li>\\n            \\t</ul>\\n</nav>\\n<!-- typo -->\\n<script id=\"errorDialog\" type=\"text/x-jquery-tmpl\">\\n<div class=\"dial fbShade\">\\n\\t<i class=\"advice\">${err}</i>\\n\\t<button class=\"submit\" style=\"margin-top:23px\">${lp.layout_continue}</button>\\n</script>\\n<script>\\n\\t$(\\'#errorDialog\\').template(\\'errorDialog\\');\\n</script>\\n    <script type=\"text/javascript\">\\n        $(function () {\\n            $(\\'body\\').css(\\'opacity\\', 1)\\n            $(\\'.container\\').css(\\'opacity\\', 1)\\n        })\\n    </script>\\n    <noscript>\\n        <style type=\"text/css\">body, .container {\\n                opacity: 1\\n            }</style>\\n    </noscript>\\n<div class=\"container clearfix\">\\n        <div class=\"leftSide\">\\n        <div class=\"paddLeftSide hoverPic\">\\n            <a href=\"/u3445760/en/\"><img src=\"/upload/user/3445760_1.jpg\" alt=\"Mr\\'s avatar\" width=\"140\" height=\"140\" class=\"userpic\"></a>        </div>\\n        \\n            <script> !(function () {\\n                window.googletag = window.googletag || {};\\n                window.vmpbjs = window.vmpbjs || {};\\n                window.vpb = window.vpb || {};\\n                vpb.fastLoad = true;\\n                googletag.cmd = googletag.cmd || [];\\n                vmpbjs.cmd = vmpbjs.cmd || [];\\n                var cmds = googletag.cmd.slice(0) || [];\\n                googletag.cmd.length = 0;\\n                var ready = false;\\n            \\n                function exec(cb) {\\n                    return cb.call(googletag);\\n                }\\n            \\n                googletag.cmd.push(function () {\\n                    googletag.cmd.unshift = function (cb) {\\n                        if (ready) {\\n                            return exec(cb);\\n                        }\\n                        cmds.unshift(cb);\\n                        if (cb._startgpt) {\\n                            ready = true;\\n                            for (var k = 0; k < cmds.length; k++) {\\n                                exec(cmds[k]);\\n                            }\\n                        }\\n                    };\\n                    googletag.cmd.push = function (cb) {\\n                        if (ready) {\\n                            return exec(cb);\\n                        }\\n                        cmds.push(cb);\\n                    };\\n                });\\n                googletag.cmd.push = function (cb) {\\n                    cmds.push(cb)\\n                };\\n                googletag.cmd.unshift = function (cb) {\\n                    cmds.unshift(cb);\\n                    if (cb._startgpt) {\\n                        ready = true;\\n                        if (googletag.apiReady) {\\n                            cmds.forEach(function (cb) {\\n                                googletag.cmd.push(cb);\\n                            })\\n                        } else {\\n                            googletag.cmd = cmds;\\n                        }\\n                    }\\n                };\\n   \\n                var dayMs = 36e5, cb = parseInt(Date.now() / dayMs),\\n                    scriptId = \\'309796_7586\\',\\n                    vpbSrc = \\'//player.adtcdn.com/prebidlink/\\' + cb + \\'/wrapper_hb_\\' + scriptId + \\'.js\\',\\n                    pbSrc = vpbSrc.replace(\\'wrapper_hb\\', \\'hb\\'), gptSrc = \\'//securepubads.g.doubleclick.net/tag/js/gpt.js\\',\\n                    c = document.head || document.body || document.documentElement;\\n                       \\n                function loadScript(src, cb) {\\n                    var s = document.createElement(\\'script\\');\\n                    s.src = src;\\n                    s.defer = false;\\n                    c.appendChild(s);\\n                    s.onload = cb;\\n                    s.async = true;\\n                    s.onerror = function () {\\n                        var fn = function () {\\n                        };\\n                        fn._startgpt = true;\\n                        googletag.cmd.unshift(fn);\\n                    };\\n                    return s;\\n                }\\n            \\n                loadScript(pbSrc);\\n                loadScript(gptSrc);\\n                loadScript(vpbSrc);\\n            })() </script>\\n            <script>\\n                var gptadslots = [];\\n                var googletag = googletag || {cmd: []};\\n            </script>\\n            <script>\\n                googletag.cmd.push(function () {\\n                    var mapping1 = googletag.sizeMapping().addSize([768, 0], [[300, 250], [300, 600], [160, 600]])\\n.addSize([320, 0], [[300, 50], [300, 100], [300, 250]])\\n.addSize([0, 0], [300, 250])\\n.build();\\nvar mapping2 = googletag.sizeMapping().addSize([992, 0], [[970, 90], [728, 90]])\\n.addSize([768, 0], [[468, 60], [728, 90]])\\n.addSize([320, 0], [[320, 50], [300, 100], [300, 250]])\\n.addSize([0, 0], [970, 250])\\n.build();\\nvar mapping3 = googletag.sizeMapping().addSize([992, 0], [728, 90])\\n.addSize([768, 0], [[468, 60], [728, 90]])\\n.addSize([320, 0], [[320, 50], [300, 100], [300, 250]])\\n.addSize([0, 0], [970, 250])\\n.build();\\nvar mapping4 = googletag.sizeMapping().addSize([768, 0], [[120, 600], [160, 600]])\\n.addSize([320, 0], [[300, 50], [300, 100], [300, 250]])\\n.addSize([0, 0], [300, 250])\\n.build();\\ngptadslots.push(googletag.defineSlot(\\'/111393242/ratatype_adtelligent/typing_test_right_banner\\', [300, 250], \\'div-gpt-ad-typing_test_right_banner\\')\\n            .defineSizeMapping(mapping1)\\n            .addService(googletag.pubads()));\\ngptadslots.push(googletag.defineSlot(\\'/111393242/ratatype_adtelligent/typing_test_modal_window\\', [300, 250], \\'div-gpt-ad-typing_test_modal_window\\')\\n            .defineSizeMapping(mapping3)\\n            .addService(googletag.pubads()));\\ngptadslots.push(googletag.defineSlot(\\'/111393242/ratatype_adtelligent/typing_test_footer\\', [300, 250], \\'div-gpt-ad-typing_test_footer\\')\\n            .defineSizeMapping(mapping3)\\n            .addService(googletag.pubads()));\\ngptadslots.push(googletag.defineSlot(\\'/111393242/ratatype_adtelligent/learn\\', [300, 250], \\'div-gpt-ad-learn\\')\\n            .defineSizeMapping(mapping3)\\n            .addService(googletag.pubads()));\\ngptadslots.push(googletag.defineSlot(\\'/111393242/ratatype_adtelligent/test_complete\\', [300, 250], \\'div-gpt-ad-test_complete\\')\\n            .defineSizeMapping(mapping2)\\n            .addService(googletag.pubads()));\\ngptadslots.push(googletag.defineSlot(\\'/111393242/ratatype_adtelligent/start_exercise\\', [300, 250], \\'div-gpt-ad-start_exercise\\')\\n            .defineSizeMapping(mapping2)\\n            .addService(googletag.pubads()));\\ngptadslots.push(googletag.defineSlot(\\'/111393242/ratatype_adtelligent/process_exercise_footer\\', [300, 250], \\'div-gpt-ad-process_exercise_footer\\')\\n            .defineSizeMapping(mapping3)\\n            .addService(googletag.pubads()));\\ngptadslots.push(googletag.defineSlot(\\'/111393242/ratatype_adtelligent/finish_exercise\\', [300, 250], \\'div-gpt-ad-finish_exercise\\')\\n            .defineSizeMapping(mapping2)\\n            .addService(googletag.pubads()));\\ngptadslots.push(googletag.defineSlot(\\'/111393242/ratatype_adtelligent/process_exercise_sidebar\\', [300, 250], \\'div-gpt-ad-process_exercise_sidebar\\')\\n            .defineSizeMapping(mapping1)\\n            .addService(googletag.pubads()));\\ngptadslots.push(googletag.defineSlot(\\'/111393242/ratatype_adtelligent/user_page\\', [300, 250], \\'div-gpt-ad-user_page\\')\\n            .defineSizeMapping(mapping4)\\n            .addService(googletag.pubads()));\\ngptadslots.push(googletag.defineSlot(\\'/111393242/ratatype_adtelligent/Average_typing\\', [300, 250], \\'div-gpt-ad-Average_typing\\')\\n            .defineSizeMapping(mapping3)\\n            .addService(googletag.pubads()));\\n\\n                    \\n                    googletag.pubads().enableSingleRequest();\\n                    googletag.pubads().collapseEmptyDivs();\\n                    googletag.enableServices();\\n                });\\n            </script>\\n                    <div id=\"div-gpt-ad-user_page\" style=\"height:600px; margin:35px 20px 0 40px; display:block; width:160px;\">\\n                <script>\\n                    googletag.cmd.push(function() { googletag.display(\"div-gpt-ad-user_page\"); });\\n                </script></div>    </div>\\n    <div class=\"rightSide\">\\n        <div class=\"paddrightSide\">\\n            <div class=\"right\">\\n\\n                <div class=\"dropdown-menu\" id=\"lessonLanguages\">\\n\\t<a href=\"javascript:void(0)\" class=\"dropdown-toggle dropdown-toggle-course\" data-toggle=\"dropdown\">\\n\\t\\t<img src=\"/static/i/icons/keyboard_toggle.png\" width=\"20\" height=\"14\" alt=\"\">\\n        English layout\\t\\t<span class=\"arrow-down arrow-down-gray\"></span>\\n\\t</a>\\n\\t<ul class=\"dropdown bottom\">\\n\\t\\t<li class=\"dropdown-arrow-container\">\\n\\t\\t\\t<i class=\"dropdown-arrow dropdown-arrow-up\"></i>\\n\\t\\t</li>\\n\\t\\t<li>\\n\\t\\t\\t<a href=\"/u3445760/certification-results/\">\\n                English layout            </a>\\n\\t\\t</li>\\n        \\t\\t\\t<li><a href=\"/u3445760/certification-results/es/\">Distribuci\\xc3\\xb3n en espa\\xc3\\xb1ol</a></li>\\n        \\t\\t\\t<li><a href=\"/u3445760/certification-results/fr/\">Disposition fran\\xc3\\xa7aise</a></li>\\n        \\t\\t\\t<li><a href=\"/u3445760/certification-results/ru/\">\\xd0\\xa0\\xd1\\x83\\xd1\\x81\\xd1\\x81\\xd0\\xba\\xd0\\xb0\\xd1\\x8f \\xd1\\x80\\xd0\\xb0\\xd1\\x81\\xd0\\xba\\xd0\\xbb\\xd0\\xb0\\xd0\\xb4\\xd0\\xba\\xd0\\xb0</a></li>\\n        \\t\\t\\t<li><a href=\"/u3445760/certification-results/uk/\">\\xd0\\xa3\\xd0\\xba\\xd1\\x80\\xd0\\xb0\\xd1\\x97\\xd0\\xbd\\xd1\\x81\\xd1\\x8c\\xd0\\xba\\xd0\\xb0 \\xd1\\x80\\xd0\\xbe\\xd0\\xb7\\xd0\\xba\\xd0\\xbb\\xd0\\xb0\\xd0\\xb4\\xd0\\xba\\xd0\\xb0</a></li>\\n        \\t\\t\\t<li><a href=\"/u3445760/certification-results/en_az/\">English layout (azerty)</a></li>\\n        \\t\\t\\t<li><a href=\"/u3445760/certification-results/en_dv/\">English layout (dvorak)</a></li>\\n        \\t\\t\\t<li><a href=\"/u3445760/certification-results/en_sp/\">English (spelling mistakes)</a></li>\\n        \\t\\t\\t<li><a href=\"/u3445760/certification-results/it/\">Layout italiano</a></li>\\n        \\t\\t\\t<li><a href=\"/u3445760/certification-results/de/\">Layout deutsche</a></li>\\n        \\t\\t\\t<li><a href=\"/u3445760/certification-results/pt_BR/\">Layout em portugu\\xc3\\xaas (Brasil)</a></li>\\n        \\t</ul>\\n</div>\\n<script>\\n\\t$(function () {\\n\\t\\t$(\\'#lessonLanguages\\').dropdown();\\n\\t});\\n</script>\\n            </div>\\n            <h1 class=\"left edt\">Mr</h1>\\n            <script>\\n                $(\\'.edt\\').click(function () {\\n                    location.href = \"/u3445760/\";\\n                });\\n            </script>\\n                            <div class=\"clear\"></div>\\n                <div class=\"userOverview\">\\n                                            <div data-r=\"true\">\\n                            <span class=\"titleP\">Progress</span>\\n                            <span>\\n\\t\\t\\t\\t\\t\\t\\t\\t<b>1</b>\\n                                lesson\\t\\t\\t\\t\\t\\t\\t</span>\\n                        </div>\\n                                                <div class=\"userSpeed\" data-r=\"true\">\\n                            <span class=\"titleP\">Typing speed</span>\\n                            <span><b>43</b> WPM</span>\\n                        </div>\\n                        <div class=\"userAccuracy\" data-r=\"true\">\\n                            <span class=\"titleP\">Accuracy</span>\\n                            <span><b>86.5</b>%</span>\\n                        </div>\\n                                        </div>\\n                \\n                        <div class=\"personalNav\">\\n                <ul>\\n                    <li>\\n                        <a href=\"/u3445760/\">Overview</a>\\n                    </li>\\n                                            <li><a href=\"/u3445760/certificate/\">Certificate</a>\\n                        </li>                    <li><a href=\"/u3445760/education-results/\"                           rel=\"nofollow\">Education results</a></li>\\n                    <li><a href=\"/u3445760/certification-results/\" class=\"selected\"                           rel=\"nofollow\">Certification results</a></li>\\n                                        <li><a href=\"/u3445760/groups/\">Groups                                                    </a>\\n                    </li>\\n                </ul>\\n            </div>\\n            <div>\\n                \\t<div class=\"greyTop\">\\n\\t\\t<div class=\"speed\" style=\"width:270px\" data-r=\"true\">Typing speed, WPM</div>\\n\\t\\t<div class=\"accuracy\" style=\"width:160px\" data-r=\"true\">Accuracy, <span>%</span></div>\\n\\t\\t<div style=\"float:right\">Date / Time</div>\\n\\t</div>\\n\\t<div class=\"tblOverviewAll\">\\n        \\t\\t\\t<div class=\"oneLine\" data-r=\"true\">\\n                \\t\\t\\t\\t<div class=\"insideLine\">\\n\\t\\t\\t\\t\\t<b class=\"darkGrey\">30</b>\\n\\t\\t\\t\\t\\t<div class=\"runner\">\\n\\t\\t\\t\\t\\t\\t<div style=\"width:137px\"></div>\\n\\t\\t\\t\\t\\t</div>\\n\\t\\t\\t\\t\\t<b class=\"accuracyOView\">79.8%</b>\\n\\t\\t\\t\\t\\t<div class=\"runnerOrange\">\\n\\t\\t\\t\\t\\t\\t<div style=\"width:112px\"></div>\\n\\t\\t\\t\\t\\t</div>\\n\\t\\t\\t\\t\\t<div class=\"dateOView nowrap\">16 Jul 21</div>\\n\\t\\t\\t\\t\\t<div class=\"timeOView\">04:28</div>\\n\\t\\t\\t\\t</div>\\n\\t\\t\\t</div>\\n            \\t\\t\\t<div class=\"oneLine\" data-r=\"true\">\\n                \\t\\t\\t\\t<div class=\"insideLine\">\\n\\t\\t\\t\\t\\t<b class=\"darkGrey\">34.2</b>\\n\\t\\t\\t\\t\\t<div class=\"runner\">\\n\\t\\t\\t\\t\\t\\t<div style=\"width:156px\"></div>\\n\\t\\t\\t\\t\\t</div>\\n\\t\\t\\t\\t\\t<b class=\"accuracyOView\">88.0%</b>\\n\\t\\t\\t\\t\\t<div class=\"runnerOrange\">\\n\\t\\t\\t\\t\\t\\t<div style=\"width:123px\"></div>\\n\\t\\t\\t\\t\\t</div>\\n\\t\\t\\t\\t\\t<div class=\"dateOView nowrap\">16 Jul 21</div>\\n\\t\\t\\t\\t\\t<div class=\"timeOView\">04:25</div>\\n\\t\\t\\t\\t</div>\\n\\t\\t\\t</div>\\n            \\t\\t\\t<div class=\"oneLine\" data-r=\"true\">\\n                \\t\\t\\t\\t<div class=\"insideLine\">\\n\\t\\t\\t\\t\\t<b class=\"darkGrey\">42.8</b>\\n\\t\\t\\t\\t\\t<div class=\"runner\">\\n\\t\\t\\t\\t\\t\\t<div style=\"width:195px\"></div>\\n\\t\\t\\t\\t\\t</div>\\n\\t\\t\\t\\t\\t<b class=\"accuracyOView\">86.5%</b>\\n\\t\\t\\t\\t\\t<div class=\"runnerOrange\">\\n\\t\\t\\t\\t\\t\\t<div style=\"width:121px\"></div>\\n\\t\\t\\t\\t\\t</div>\\n\\t\\t\\t\\t\\t<div class=\"dateOView nowrap\">16 Jul 21</div>\\n\\t\\t\\t\\t\\t<div class=\"timeOView\">04:22</div>\\n\\t\\t\\t\\t</div>\\n\\t\\t\\t</div>\\n            \\t\\t\\t<div class=\"oneLine\" data-r=\"true\">\\n                \\t\\t\\t\\t<div class=\"insideLine\">\\n\\t\\t\\t\\t\\t<b class=\"darkGrey\">36</b>\\n\\t\\t\\t\\t\\t<div class=\"runner\">\\n\\t\\t\\t\\t\\t\\t<div style=\"width:164px\"></div>\\n\\t\\t\\t\\t\\t</div>\\n\\t\\t\\t\\t\\t<b class=\"accuracyOView\">89.1%</b>\\n\\t\\t\\t\\t\\t<div class=\"runnerOrange\">\\n\\t\\t\\t\\t\\t\\t<div style=\"width:125px\"></div>\\n\\t\\t\\t\\t\\t</div>\\n\\t\\t\\t\\t\\t<div class=\"dateOView nowrap\">16 Jul 21</div>\\n\\t\\t\\t\\t\\t<div class=\"timeOView\">04:20</div>\\n\\t\\t\\t\\t</div>\\n\\t\\t\\t</div>\\n            \\t\\t\\t<div class=\"oneLine\" data-r=\"true\">\\n                \\t\\t\\t\\t<div class=\"insideLine\">\\n\\t\\t\\t\\t\\t<b class=\"darkGrey\">33.2</b>\\n\\t\\t\\t\\t\\t<div class=\"runner\">\\n\\t\\t\\t\\t\\t\\t<div style=\"width:151px\"></div>\\n\\t\\t\\t\\t\\t</div>\\n\\t\\t\\t\\t\\t<b class=\"accuracyOView\">86.3%</b>\\n\\t\\t\\t\\t\\t<div class=\"runnerOrange\">\\n\\t\\t\\t\\t\\t\\t<div style=\"width:121px\"></div>\\n\\t\\t\\t\\t\\t</div>\\n\\t\\t\\t\\t\\t<div class=\"dateOView nowrap\">16 Jul 21</div>\\n\\t\\t\\t\\t\\t<div class=\"timeOView\">04:17</div>\\n\\t\\t\\t\\t</div>\\n\\t\\t\\t</div>\\n            \\t\\t\\t<div class=\"oneLine\" data-r=\"true\">\\n                \\t\\t\\t\\t<div class=\"insideLine\">\\n\\t\\t\\t\\t\\t<b class=\"darkGrey\">33.2</b>\\n\\t\\t\\t\\t\\t<div class=\"runner\">\\n\\t\\t\\t\\t\\t\\t<div style=\"width:151px\"></div>\\n\\t\\t\\t\\t\\t</div>\\n\\t\\t\\t\\t\\t<b class=\"accuracyOView\">87.8%</b>\\n\\t\\t\\t\\t\\t<div class=\"runnerOrange\">\\n\\t\\t\\t\\t\\t\\t<div style=\"width:123px\"></div>\\n\\t\\t\\t\\t\\t</div>\\n\\t\\t\\t\\t\\t<div class=\"dateOView nowrap\">14 Jul 21</div>\\n\\t\\t\\t\\t\\t<div class=\"timeOView\">21:43</div>\\n\\t\\t\\t\\t</div>\\n\\t\\t\\t</div>\\n            \\t\\t\\t<div class=\"oneLine\" data-r=\"true\">\\n                \\t\\t\\t\\t<div class=\"insideLine\">\\n\\t\\t\\t\\t\\t<b class=\"darkGrey\">37.8</b>\\n\\t\\t\\t\\t\\t<div class=\"runner\">\\n\\t\\t\\t\\t\\t\\t<div style=\"width:172px\"></div>\\n\\t\\t\\t\\t\\t</div>\\n\\t\\t\\t\\t\\t<b class=\"accuracyOView\">82.7%</b>\\n\\t\\t\\t\\t\\t<div class=\"runnerOrange\">\\n\\t\\t\\t\\t\\t\\t<div style=\"width:116px\"></div>\\n\\t\\t\\t\\t\\t</div>\\n\\t\\t\\t\\t\\t<div class=\"dateOView nowrap\">14 Jul 21</div>\\n\\t\\t\\t\\t\\t<div class=\"timeOView\">09:10</div>\\n\\t\\t\\t\\t</div>\\n\\t\\t\\t</div>\\n            \\t\\t\\t<div class=\"oneLine\" data-r=\"true\">\\n                \\t\\t\\t\\t<div class=\"insideLine\">\\n\\t\\t\\t\\t\\t<b class=\"darkGrey\">32.2</b>\\n\\t\\t\\t\\t\\t<div class=\"runner\">\\n\\t\\t\\t\\t\\t\\t<div style=\"width:147px\"></div>\\n\\t\\t\\t\\t\\t</div>\\n\\t\\t\\t\\t\\t<b class=\"accuracyOView\">81.7%</b>\\n\\t\\t\\t\\t\\t<div class=\"runnerOrange\">\\n\\t\\t\\t\\t\\t\\t<div style=\"width:115px\"></div>\\n\\t\\t\\t\\t\\t</div>\\n\\t\\t\\t\\t\\t<div class=\"dateOView nowrap\">14 Jul 21</div>\\n\\t\\t\\t\\t\\t<div class=\"timeOView\">09:08</div>\\n\\t\\t\\t\\t</div>\\n\\t\\t\\t</div>\\n            \\t\\t\\t<div class=\"oneLine\" data-r=\"true\">\\n                \\t\\t\\t\\t<div class=\"insideLine\">\\n\\t\\t\\t\\t\\t<b class=\"darkGrey\">37.8</b>\\n\\t\\t\\t\\t\\t<div class=\"runner\">\\n\\t\\t\\t\\t\\t\\t<div style=\"width:172px\"></div>\\n\\t\\t\\t\\t\\t</div>\\n\\t\\t\\t\\t\\t<b class=\"accuracyOView\">87.8%</b>\\n\\t\\t\\t\\t\\t<div class=\"runnerOrange\">\\n\\t\\t\\t\\t\\t\\t<div style=\"width:123px\"></div>\\n\\t\\t\\t\\t\\t</div>\\n\\t\\t\\t\\t\\t<div class=\"dateOView nowrap\">14 Jul 21</div>\\n\\t\\t\\t\\t\\t<div class=\"timeOView\">09:05</div>\\n\\t\\t\\t\\t</div>\\n\\t\\t\\t</div>\\n            \\t\\t\\t<div class=\"oneLine\" data-r=\"true\">\\n                \\t\\t\\t\\t<div class=\"insideLine\">\\n\\t\\t\\t\\t\\t<b class=\"darkGrey\">41.2</b>\\n\\t\\t\\t\\t\\t<div class=\"runner\">\\n\\t\\t\\t\\t\\t\\t<div style=\"width:188px\"></div>\\n\\t\\t\\t\\t\\t</div>\\n\\t\\t\\t\\t\\t<b class=\"accuracyOView\">87.5%</b>\\n\\t\\t\\t\\t\\t<div class=\"runnerOrange\">\\n\\t\\t\\t\\t\\t\\t<div style=\"width:123px\"></div>\\n\\t\\t\\t\\t\\t</div>\\n\\t\\t\\t\\t\\t<div class=\"dateOView nowrap\">14 Jul 21</div>\\n\\t\\t\\t\\t\\t<div class=\"timeOView\">09:03</div>\\n\\t\\t\\t\\t</div>\\n\\t\\t\\t</div>\\n            \\t\\t\\t<div class=\"oneLine\" data-r=\"true\">\\n                \\t\\t\\t\\t<div class=\"insideLine\">\\n\\t\\t\\t\\t\\t<b class=\"darkGrey\">36.6</b>\\n\\t\\t\\t\\t\\t<div class=\"runner\">\\n\\t\\t\\t\\t\\t\\t<div style=\"width:167px\"></div>\\n\\t\\t\\t\\t\\t</div>\\n\\t\\t\\t\\t\\t<b class=\"accuracyOView\">88.0%</b>\\n\\t\\t\\t\\t\\t<div class=\"runnerOrange\">\\n\\t\\t\\t\\t\\t\\t<div style=\"width:123px\"></div>\\n\\t\\t\\t\\t\\t</div>\\n\\t\\t\\t\\t\\t<div class=\"dateOView nowrap\">14 Jul 21</div>\\n\\t\\t\\t\\t\\t<div class=\"timeOView\">09:00</div>\\n\\t\\t\\t\\t</div>\\n\\t\\t\\t</div>\\n            \\t\\t\\t<div class=\"oneLine\" data-r=\"true\">\\n                \\t\\t\\t\\t<div class=\"insideLine\">\\n\\t\\t\\t\\t\\t<b class=\"darkGrey\">35.6</b>\\n\\t\\t\\t\\t\\t<div class=\"runner\">\\n\\t\\t\\t\\t\\t\\t<div style=\"width:162px\"></div>\\n\\t\\t\\t\\t\\t</div>\\n\\t\\t\\t\\t\\t<b class=\"accuracyOView\">81.8%</b>\\n\\t\\t\\t\\t\\t<div class=\"runnerOrange\">\\n\\t\\t\\t\\t\\t\\t<div style=\"width:115px\"></div>\\n\\t\\t\\t\\t\\t</div>\\n\\t\\t\\t\\t\\t<div class=\"dateOView nowrap\">14 Jul 21</div>\\n\\t\\t\\t\\t\\t<div class=\"timeOView\">08:57</div>\\n\\t\\t\\t\\t</div>\\n\\t\\t\\t</div>\\n            \\t\\t\\t<div class=\"oneLine\" data-r=\"true\">\\n                \\t\\t\\t\\t<div class=\"insideLine\">\\n\\t\\t\\t\\t\\t<b class=\"darkGrey\">25.4</b>\\n\\t\\t\\t\\t\\t<div class=\"runner\">\\n\\t\\t\\t\\t\\t\\t<div style=\"width:116px\"></div>\\n\\t\\t\\t\\t\\t</div>\\n\\t\\t\\t\\t\\t<b class=\"accuracyOView\">86.3%</b>\\n\\t\\t\\t\\t\\t<div class=\"runnerOrange\">\\n\\t\\t\\t\\t\\t\\t<div style=\"width:121px\"></div>\\n\\t\\t\\t\\t\\t</div>\\n\\t\\t\\t\\t\\t<div class=\"dateOView nowrap\">14 Jul 21</div>\\n\\t\\t\\t\\t\\t<div class=\"timeOView\">08:55</div>\\n\\t\\t\\t\\t</div>\\n\\t\\t\\t</div>\\n            \\t\\t\\t<div class=\"oneLine\" data-r=\"true\">\\n                \\t\\t\\t\\t<div class=\"insideLine\">\\n\\t\\t\\t\\t\\t<b class=\"darkGrey\">41.2</b>\\n\\t\\t\\t\\t\\t<div class=\"runner\">\\n\\t\\t\\t\\t\\t\\t<div style=\"width:188px\"></div>\\n\\t\\t\\t\\t\\t</div>\\n\\t\\t\\t\\t\\t<b class=\"accuracyOView\">88.1%</b>\\n\\t\\t\\t\\t\\t<div class=\"runnerOrange\">\\n\\t\\t\\t\\t\\t\\t<div style=\"width:124px\"></div>\\n\\t\\t\\t\\t\\t</div>\\n\\t\\t\\t\\t\\t<div class=\"dateOView nowrap\">14 Jul 21</div>\\n\\t\\t\\t\\t\\t<div class=\"timeOView\">08:50</div>\\n\\t\\t\\t\\t</div>\\n\\t\\t\\t</div>\\n            \\t</div>\\n                </div>\\n        </div>\\n    </div>\\n</div>\\n\\n<script id=\"requestDialog\" type=\"text/x-jquery-tmpl\">\\n\\t<div class=\"dial fbShade\">\\n\\t\\t<h4 style=\"margin:4px 0 5px\">Yay!</h4>\\n\\t\\t<div class=\"txt\">Your friends are invited now.<br> Friends are fun!</div>\\n\\t\\t<button class=\"submit\" style=\"margin-top:23px\">${lp.layout_continue}</button>\\n\\t</div>\\n</script>\\n<script>\\n    $(\\'#requestDialog\\').template(\\'requestDialog\\');\\n</script><!-- \\xd0\\x9e\\xd0\\xb1\\xd1\\x8f\\xd0\\xb7\\xd0\\xb0\\xd1\\x82\\xd0\\xb5\\xd0\\xbb\\xd1\\x8c\\xd0\\xbd\\xd0\\xbe \\xd0\\xbf\\xd1\\x80\\xd0\\xbe\\xd0\\xb4\\xd1\\x83\\xd0\\xb1\\xd0\\xbb\\xd0\\xb8\\xd1\\x80\\xd0\\xbe\\xd0\\xb2\\xd0\\xb0\\xd1\\x82\\xd1\\x8c \\xd0\\xba\\xd0\\xbe\\xd0\\xb4 \\xd0\\xb2 \\xd1\\x84\\xd0\\xb0\\xd0\\xb9\\xd0\\xbb\\xd0\\xb5 src/_design/pages/footer_old.html -->\\n<!-- / typo --></div>\\n<footer>\\n        <div class=\"footerLinks\">\\n        <div class=\"left\">\\n            <a href=\"/learn/teachers/\" class=\"teacher-badge-footer\">For teachers</a>\\n            <a href=\"/about/\">About</a>\\n            <a href=\"/courses/\">Courses</a>\\n            <a href=\"/contact/\">Contact Us</a>\\n            <a href=\"/privacy-terms/\">Privacy & Terms</a>\\n            <a href=\"/donation/\" class=\"btn btn-transparent\" id=\"btnDonation\">Donate</a>\\n        </div>\\n        <div class=\"right\">\\n            <div class=\"dropdown-menu\" id=\"dropdownMenu1\">\\n                <a href=\"javascript:void(0)\" class=\"dropdown-toggle dropdown-toggle-lang\" data-toggle=\"dropdown\">\\n                    <img src=\"/static/i/world_gray.png\" width=\"20\" height=\"21\" alt=\"\">\\n                    English                    <span class=\"arrow-down arrow-down-blue\"></span>\\n                </a>\\n                <ul class=\"dropdown\">\\n                                            <li>\\n                            <a data-toggle=\"interface\" href=\"/u3445760/certification-results/?lang=en\" rel=\"nofollow\">\\n                                English                            </a>\\n                        </li>\\n                                                <li>\\n                            <a data-toggle=\"interface\" href=\"/ru/u3445760/certification-results/?lang=ru\" rel=\"nofollow\">\\n                                \\xd0\\xa0\\xd1\\x83\\xd1\\x81\\xd1\\x81\\xd0\\xba\\xd0\\xb8\\xd0\\xb9                            </a>\\n                        </li>\\n                                                <li>\\n                            <a data-toggle=\"interface\" href=\"/uk/u3445760/certification-results/?lang=uk\" rel=\"nofollow\">\\n                                \\xd0\\xa3\\xd0\\xba\\xd1\\x80\\xd0\\xb0\\xd1\\x97\\xd0\\xbd\\xd1\\x81\\xd1\\x8c\\xd0\\xba\\xd0\\xb0                            </a>\\n                        </li>\\n                                                <li>\\n                            <a data-toggle=\"interface\" href=\"/fr/u3445760/certification-results/?lang=fr\" rel=\"nofollow\">\\n                                Fran\\xc3\\xa7ais                            </a>\\n                        </li>\\n                                                <li>\\n                            <a data-toggle=\"interface\" href=\"/es/u3445760/certification-results/?lang=es\" rel=\"nofollow\">\\n                                Espa\\xc3\\xb1ol                            </a>\\n                        </li>\\n                                                <li>\\n                            <a data-toggle=\"interface\" href=\"/it/u3445760/certification-results/?lang=it\" rel=\"nofollow\">\\n                                Italiano                            </a>\\n                        </li>\\n                                                <li>\\n                            <a data-toggle=\"interface\" href=\"/de/u3445760/certification-results/?lang=de\" rel=\"nofollow\">\\n                                Deutsche                            </a>\\n                        </li>\\n                                                <li>\\n                            <a data-toggle=\"interface\" href=\"/pt_BR/u3445760/certification-results/?lang=pt_BR\" rel=\"nofollow\">\\n                                Portuguese (Brasil)                            </a>\\n                        </li>\\n                                            <li class=\"dropdown-arrow-container\">\\n                        <i class=\"dropdown-arrow dropdown-arrow-down\"></i>\\n                    </li>\\n                </ul>\\n            </div>\\n        </div>\\n\\n        <div class=\"clear\" style=\"height: 10px\"></div>\\n        <div class=\"left\"><span>&copy;&nbsp;2021  <a href=\"//www.ratatype.com\">Ratatype &mdash; Free Online Typing Tutor</a></span></div>\\n        <div class=\"right p-0\">\\n            <div class=\"social-holder social-footer\">\\n                <a href=\"https://www.facebook.com/Ratatype/\" class=\"social-btn social-btn-fb\" target=\"_blank\"></a>\\n                <a href=\"https://twitter.com/ratatype\" class=\"social-btn social-btn-twitter\" target=\"_blank\"></a>\\n            </div>\\n        </div>\\n    </div>\\n</footer>\\n<script type=\"text/javascript\">\\n    $(function () {\\n        $(\\'.submit\\').click(\\n            function () {\\n                if ($(this).attr(\\'href\\') != undefined) {\\n                    goToUrl($(this).attr(\\'href\\'))\\n                }\\n            }\\n        );\\n\\n        var $menuCountainer = $(\\'li#user\\');\\n        var $umenu = $(\\'li#user .arNav, li#user ul\\');\\n\\n        $umenu.click(function () {\\n            $menuCountainer.toggleClass(\\'open\\');\\n        });\\n\\n        $(document).click(function (e) {\\n            var $menu = $(e.target).closest(\\'li#user\\').find(\\'i > ul\\');\\n\\n            if ($menu.length === 0) {\\n                $menuCountainer.removeClass(\\'open\\');\\n            }\\n        });\\n\\n        $(\\'#dropdownMenu1\\').dropdown();\\n    });\\n</script>\\n\\n</body>\\n</html>'\n"
          ],
          "name": "stdout"
        }
      ]
    },
    {
      "cell_type": "code",
      "metadata": {
        "id": "ooAQZLG0G-iA"
      },
      "source": [
        "soup = BeautifulSoup(url_text,'html.parser')"
      ],
      "execution_count": 16,
      "outputs": []
    },
    {
      "cell_type": "code",
      "metadata": {
        "colab": {
          "base_uri": "https://localhost:8080/"
        },
        "id": "hb7D8BpXHTf-",
        "outputId": "eee33032-1196-48f2-c7b9-fc22334e5db5"
      },
      "source": [
        "a = soup.find_all('b')\n",
        "a"
      ],
      "execution_count": 92,
      "outputs": [
        {
          "output_type": "execute_result",
          "data": {
            "text/plain": [
              "[<b>1</b>,\n",
              " <b>43</b>,\n",
              " <b>86.5</b>,\n",
              " <b class=\"darkGrey\">30</b>,\n",
              " <b class=\"accuracyOView\">79.8%</b>,\n",
              " <b class=\"darkGrey\">34.2</b>,\n",
              " <b class=\"accuracyOView\">88.0%</b>,\n",
              " <b class=\"darkGrey\">42.8</b>,\n",
              " <b class=\"accuracyOView\">86.5%</b>,\n",
              " <b class=\"darkGrey\">36</b>,\n",
              " <b class=\"accuracyOView\">89.1%</b>,\n",
              " <b class=\"darkGrey\">33.2</b>,\n",
              " <b class=\"accuracyOView\">86.3%</b>,\n",
              " <b class=\"darkGrey\">33.2</b>,\n",
              " <b class=\"accuracyOView\">87.8%</b>,\n",
              " <b class=\"darkGrey\">37.8</b>,\n",
              " <b class=\"accuracyOView\">82.7%</b>,\n",
              " <b class=\"darkGrey\">32.2</b>,\n",
              " <b class=\"accuracyOView\">81.7%</b>,\n",
              " <b class=\"darkGrey\">37.8</b>,\n",
              " <b class=\"accuracyOView\">87.8%</b>,\n",
              " <b class=\"darkGrey\">41.2</b>,\n",
              " <b class=\"accuracyOView\">87.5%</b>,\n",
              " <b class=\"darkGrey\">36.6</b>,\n",
              " <b class=\"accuracyOView\">88.0%</b>,\n",
              " <b class=\"darkGrey\">35.6</b>,\n",
              " <b class=\"accuracyOView\">81.8%</b>,\n",
              " <b class=\"darkGrey\">25.4</b>,\n",
              " <b class=\"accuracyOView\">86.3%</b>,\n",
              " <b class=\"darkGrey\">41.2</b>,\n",
              " <b class=\"accuracyOView\">88.1%</b>]"
            ]
          },
          "metadata": {
            "tags": []
          },
          "execution_count": 92
        }
      ]
    },
    {
      "cell_type": "code",
      "metadata": {
        "id": "W69KyKbyHnBo"
      },
      "source": [
        "i =  soup.find_all('b',{'class':'darkGrey'})\n",
        "i                                                                   #This finds all the tags with b where the class is dark grey\n",
        "sav=[]"
      ],
      "execution_count": 220,
      "outputs": []
    },
    {
      "cell_type": "code",
      "metadata": {
        "id": "Gcv2lAd8ZrXx"
      },
      "source": [
        "for val in range(0,14):\n",
        "  sav.append((i[val].text.strip()))                  #EXTRACTING THE TEXTS FROM THE FOUND SOUP RESULTS using i[val.text.strip()]"
      ],
      "execution_count": 221,
      "outputs": []
    },
    {
      "cell_type": "code",
      "metadata": {
        "colab": {
          "base_uri": "https://localhost:8080/"
        },
        "id": "O4XIUijoclAx",
        "outputId": "0f765ce7-251d-4964-97fc-96ef8dbb0646"
      },
      "source": [
        "type(sav)"
      ],
      "execution_count": 223,
      "outputs": [
        {
          "output_type": "execute_result",
          "data": {
            "text/plain": [
              "list"
            ]
          },
          "metadata": {
            "tags": []
          },
          "execution_count": 223
        }
      ]
    },
    {
      "cell_type": "code",
      "metadata": {
        "id": "3TlOr2NVcqu3"
      },
      "source": [
        "sav = [float(items) for items in sav]"
      ],
      "execution_count": 224,
      "outputs": []
    },
    {
      "cell_type": "code",
      "metadata": {
        "colab": {
          "base_uri": "https://localhost:8080/"
        },
        "id": "tfFAmt43doex",
        "outputId": "ee9a54f9-ac78-4c83-8eda-2247eef0b694"
      },
      "source": [
        "map(int,sav)                  #sort of apply function this function converts the programme into the necessary integer/float or whatever type you want"
      ],
      "execution_count": 225,
      "outputs": [
        {
          "output_type": "execute_result",
          "data": {
            "text/plain": [
              "<map at 0x7efbf8630290>"
            ]
          },
          "metadata": {
            "tags": []
          },
          "execution_count": 225
        }
      ]
    },
    {
      "cell_type": "code",
      "metadata": {
        "colab": {
          "base_uri": "https://localhost:8080/"
        },
        "id": "apTrgopRd1sr",
        "outputId": "ea4b754a-fcd5-4788-c58b-1ca368117917"
      },
      "source": [
        "sav"
      ],
      "execution_count": 227,
      "outputs": [
        {
          "output_type": "execute_result",
          "data": {
            "text/plain": [
              "[30.0,\n",
              " 34.2,\n",
              " 42.8,\n",
              " 36.0,\n",
              " 33.2,\n",
              " 33.2,\n",
              " 37.8,\n",
              " 32.2,\n",
              " 37.8,\n",
              " 41.2,\n",
              " 36.6,\n",
              " 35.6,\n",
              " 25.4,\n",
              " 41.2]"
            ]
          },
          "metadata": {
            "tags": []
          },
          "execution_count": 227
        }
      ]
    },
    {
      "cell_type": "code",
      "metadata": {
        "colab": {
          "base_uri": "https://localhost:8080/"
        },
        "id": "0XxsgCJweP3r",
        "outputId": "c6f2a74e-dadc-4b81-8421-bbd400468257"
      },
      "source": [
        "np.mean(sav)"
      ],
      "execution_count": 228,
      "outputs": [
        {
          "output_type": "execute_result",
          "data": {
            "text/plain": [
              "35.51428571428571"
            ]
          },
          "metadata": {
            "tags": []
          },
          "execution_count": 228
        }
      ]
    },
    {
      "cell_type": "code",
      "metadata": {
        "colab": {
          "base_uri": "https://localhost:8080/"
        },
        "id": "OuRQyLnOo1EQ",
        "outputId": "9c78dcfa-6676-4b96-fafc-36419fc44bcc"
      },
      "source": [
        "print(np.std(sav))"
      ],
      "execution_count": 229,
      "outputs": [
        {
          "output_type": "stream",
          "text": [
            "4.51772021249295\n"
          ],
          "name": "stdout"
        }
      ]
    },
    {
      "cell_type": "code",
      "metadata": {
        "id": "3CgIPJgaaQfI"
      },
      "source": [
        "### YAAAY ###"
      ],
      "execution_count": 174,
      "outputs": []
    },
    {
      "cell_type": "code",
      "metadata": {
        "id": "FX5Q-wU5rl1D"
      },
      "source": [
        ""
      ],
      "execution_count": null,
      "outputs": []
    }
  ]
}